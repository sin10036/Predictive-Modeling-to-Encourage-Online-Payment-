{
 "cells": [
  {
   "cell_type": "code",
   "execution_count": 3,
   "metadata": {
    "colab": {},
    "colab_type": "code",
    "id": "Utr0SPpuuH2A"
   },
   "outputs": [],
   "source": [
    "import seaborn as sns\n",
    "import pandas as pd\n",
    "from sklearn.preprocessing import Imputer\n",
    "import xgboost\n",
    "from xgboost import XGBClassifier\n",
    "import matplotlib.pyplot as plt\n",
    "import numpy as np\n",
    "\n",
    "import scipy.stats as sc\n",
    "import scikitplot as skplt\n",
    "\n",
    "%matplotlib inline"
   ]
  },
  {
   "cell_type": "markdown",
   "metadata": {
    "colab_type": "text",
    "id": "VFHoyy5kuH2h"
   },
   "source": [
    "# Data Loading"
   ]
  },
  {
   "cell_type": "code",
   "execution_count": 6,
   "metadata": {
    "colab": {},
    "colab_type": "code",
    "id": "mzAZjMCMuH2l"
   },
   "outputs": [],
   "source": [
    "data = pd.read_csv(\"DS_MiniProject_ANON.csv\")\n",
    "data1=data.copy()"
   ]
  },
  {
   "cell_type": "markdown",
   "metadata": {
    "colab_type": "text",
    "id": "lprXwGRxuH3A"
   },
   "source": [
    "# Exploratory Data Analysis"
   ]
  },
  {
   "cell_type": "code",
   "execution_count": 7,
   "metadata": {
    "colab": {
     "base_uri": "https://localhost:8080/",
     "height": 224
    },
    "colab_type": "code",
    "executionInfo": {
     "elapsed": 256,
     "status": "ok",
     "timestamp": 1564435742746,
     "user": {
      "displayName": "Tejveer Singh",
      "photoUrl": "",
      "userId": "15997953647571826254"
     },
     "user_tz": 300
    },
    "id": "GSCrKskQuH3F",
    "outputId": "1c053f7c-8498-4c54-f05a-feb8bf60eb54"
   },
   "outputs": [
    {
     "data": {
      "text/html": [
       "<div>\n",
       "<style scoped>\n",
       "    .dataframe tbody tr th:only-of-type {\n",
       "        vertical-align: middle;\n",
       "    }\n",
       "\n",
       "    .dataframe tbody tr th {\n",
       "        vertical-align: top;\n",
       "    }\n",
       "\n",
       "    .dataframe thead th {\n",
       "        text-align: right;\n",
       "    }\n",
       "</style>\n",
       "<table border=\"1\" class=\"dataframe\">\n",
       "  <thead>\n",
       "    <tr style=\"text-align: right;\">\n",
       "      <th></th>\n",
       "      <th>DATE_FOR</th>\n",
       "      <th>RTD_ST_CD</th>\n",
       "      <th>CustomerSegment</th>\n",
       "      <th>Tenure</th>\n",
       "      <th>Age</th>\n",
       "      <th>MART_STATUS</th>\n",
       "      <th>GENDER</th>\n",
       "      <th>CHANNEL1_6M</th>\n",
       "      <th>CHANNEL2_6M</th>\n",
       "      <th>CHANNEL3_6M</th>\n",
       "      <th>...</th>\n",
       "      <th>CHANNEL5_3M</th>\n",
       "      <th>METHOD1_3M</th>\n",
       "      <th>PAYMENTS_3M</th>\n",
       "      <th>NOT_DI_3M</th>\n",
       "      <th>NOT_DI_6M</th>\n",
       "      <th>EVENT1_30_FLAG</th>\n",
       "      <th>EVENT2_90_SUM</th>\n",
       "      <th>LOGINS</th>\n",
       "      <th>POLICYPURCHASECHANNEL</th>\n",
       "      <th>Call_Flag</th>\n",
       "    </tr>\n",
       "  </thead>\n",
       "  <tbody>\n",
       "    <tr>\n",
       "      <th>0</th>\n",
       "      <td>5/19/2014</td>\n",
       "      <td>ST_S0</td>\n",
       "      <td>1</td>\n",
       "      <td>16.175222</td>\n",
       "      <td>78.403833</td>\n",
       "      <td>MS_S0</td>\n",
       "      <td>F</td>\n",
       "      <td>0.0</td>\n",
       "      <td>0.0</td>\n",
       "      <td>1.0</td>\n",
       "      <td>...</td>\n",
       "      <td>2</td>\n",
       "      <td>0</td>\n",
       "      <td>3</td>\n",
       "      <td>0</td>\n",
       "      <td>0</td>\n",
       "      <td>0</td>\n",
       "      <td>0</td>\n",
       "      <td>0</td>\n",
       "      <td>0</td>\n",
       "      <td>0</td>\n",
       "    </tr>\n",
       "    <tr>\n",
       "      <th>1</th>\n",
       "      <td>5/17/2014</td>\n",
       "      <td>ST_S0</td>\n",
       "      <td>1</td>\n",
       "      <td>15.931554</td>\n",
       "      <td>70.989733</td>\n",
       "      <td>MS_S1</td>\n",
       "      <td>F</td>\n",
       "      <td>0.0</td>\n",
       "      <td>6.0</td>\n",
       "      <td>0.0</td>\n",
       "      <td>...</td>\n",
       "      <td>0</td>\n",
       "      <td>3</td>\n",
       "      <td>3</td>\n",
       "      <td>0</td>\n",
       "      <td>0</td>\n",
       "      <td>0</td>\n",
       "      <td>0</td>\n",
       "      <td>0</td>\n",
       "      <td>0</td>\n",
       "      <td>0</td>\n",
       "    </tr>\n",
       "    <tr>\n",
       "      <th>2</th>\n",
       "      <td>5/15/2014</td>\n",
       "      <td>ST_S0</td>\n",
       "      <td>1</td>\n",
       "      <td>15.937029</td>\n",
       "      <td>87.578371</td>\n",
       "      <td>MS_S2</td>\n",
       "      <td>M</td>\n",
       "      <td>0.0</td>\n",
       "      <td>0.0</td>\n",
       "      <td>10.0</td>\n",
       "      <td>...</td>\n",
       "      <td>0</td>\n",
       "      <td>0</td>\n",
       "      <td>6</td>\n",
       "      <td>0</td>\n",
       "      <td>0</td>\n",
       "      <td>0</td>\n",
       "      <td>0</td>\n",
       "      <td>0</td>\n",
       "      <td>0</td>\n",
       "      <td>0</td>\n",
       "    </tr>\n",
       "    <tr>\n",
       "      <th>3</th>\n",
       "      <td>5/16/2014</td>\n",
       "      <td>ST_S1</td>\n",
       "      <td>1</td>\n",
       "      <td>15.934292</td>\n",
       "      <td>68.438056</td>\n",
       "      <td>MS_S2</td>\n",
       "      <td>M</td>\n",
       "      <td>0.0</td>\n",
       "      <td>0.0</td>\n",
       "      <td>1.0</td>\n",
       "      <td>...</td>\n",
       "      <td>0</td>\n",
       "      <td>0</td>\n",
       "      <td>0</td>\n",
       "      <td>0</td>\n",
       "      <td>0</td>\n",
       "      <td>0</td>\n",
       "      <td>0</td>\n",
       "      <td>0</td>\n",
       "      <td>1</td>\n",
       "      <td>0</td>\n",
       "    </tr>\n",
       "    <tr>\n",
       "      <th>4</th>\n",
       "      <td>5/20/2014</td>\n",
       "      <td>ST_S0</td>\n",
       "      <td>1</td>\n",
       "      <td>15.501711</td>\n",
       "      <td>80.514716</td>\n",
       "      <td>MS_S0</td>\n",
       "      <td>F</td>\n",
       "      <td>0.0</td>\n",
       "      <td>0.0</td>\n",
       "      <td>1.0</td>\n",
       "      <td>...</td>\n",
       "      <td>0</td>\n",
       "      <td>0</td>\n",
       "      <td>1</td>\n",
       "      <td>0</td>\n",
       "      <td>0</td>\n",
       "      <td>0</td>\n",
       "      <td>0</td>\n",
       "      <td>0</td>\n",
       "      <td>0</td>\n",
       "      <td>0</td>\n",
       "    </tr>\n",
       "  </tbody>\n",
       "</table>\n",
       "<p>5 rows × 29 columns</p>\n",
       "</div>"
      ],
      "text/plain": [
       "    DATE_FOR RTD_ST_CD CustomerSegment     Tenure        Age MART_STATUS  \\\n",
       "0  5/19/2014     ST_S0               1  16.175222  78.403833       MS_S0   \n",
       "1  5/17/2014     ST_S0               1  15.931554  70.989733       MS_S1   \n",
       "2  5/15/2014     ST_S0               1  15.937029  87.578371       MS_S2   \n",
       "3  5/16/2014     ST_S1               1  15.934292  68.438056       MS_S2   \n",
       "4  5/20/2014     ST_S0               1  15.501711  80.514716       MS_S0   \n",
       "\n",
       "  GENDER  CHANNEL1_6M  CHANNEL2_6M  CHANNEL3_6M  ...  CHANNEL5_3M  METHOD1_3M  \\\n",
       "0      F          0.0          0.0          1.0  ...            2           0   \n",
       "1      F          0.0          6.0          0.0  ...            0           3   \n",
       "2      M          0.0          0.0         10.0  ...            0           0   \n",
       "3      M          0.0          0.0          1.0  ...            0           0   \n",
       "4      F          0.0          0.0          1.0  ...            0           0   \n",
       "\n",
       "   PAYMENTS_3M  NOT_DI_3M  NOT_DI_6M  EVENT1_30_FLAG  EVENT2_90_SUM  LOGINS  \\\n",
       "0            3          0          0               0              0       0   \n",
       "1            3          0          0               0              0       0   \n",
       "2            6          0          0               0              0       0   \n",
       "3            0          0          0               0              0       0   \n",
       "4            1          0          0               0              0       0   \n",
       "\n",
       "   POLICYPURCHASECHANNEL  Call_Flag  \n",
       "0                      0          0  \n",
       "1                      0          0  \n",
       "2                      0          0  \n",
       "3                      1          0  \n",
       "4                      0          0  \n",
       "\n",
       "[5 rows x 29 columns]"
      ]
     },
     "execution_count": 7,
     "metadata": {},
     "output_type": "execute_result"
    }
   ],
   "source": [
    "data.head()"
   ]
  },
  {
   "cell_type": "markdown",
   "metadata": {
    "colab_type": "text",
    "id": "JPtqUDUiuH3f"
   },
   "source": [
    "## Dataset dimension"
   ]
  },
  {
   "cell_type": "code",
   "execution_count": 8,
   "metadata": {
    "colab": {
     "base_uri": "https://localhost:8080/",
     "height": 51
    },
    "colab_type": "code",
    "executionInfo": {
     "elapsed": 5789,
     "status": "ok",
     "timestamp": 1564419855073,
     "user": {
      "displayName": "Tejveer Singh",
      "photoUrl": "",
      "userId": "15997953647571826254"
     },
     "user_tz": 300
    },
    "id": "CUq61Em_uH3t",
    "outputId": "081e59b5-36d2-4b29-c324-c38dbcc3fa87"
   },
   "outputs": [
    {
     "name": "stdout",
     "output_type": "stream",
     "text": [
      "The number of rows in data : 130086\n",
      "The number of columns in data : 29\n"
     ]
    }
   ],
   "source": [
    "print(\"The number of rows in data :\",data.shape[0])\n",
    "print(\"The number of columns in data :\",data.shape[1])"
   ]
  },
  {
   "cell_type": "markdown",
   "metadata": {},
   "source": [
    "## Remove duplicate rows from the dataset"
   ]
  },
  {
   "cell_type": "code",
   "execution_count": 9,
   "metadata": {},
   "outputs": [],
   "source": [
    "data.drop_duplicates(inplace=True)\n",
    "data1.drop_duplicates(inplace=True)"
   ]
  },
  {
   "cell_type": "markdown",
   "metadata": {},
   "source": [
    "## Number of Rows and Column after removing the duplicates"
   ]
  },
  {
   "cell_type": "code",
   "execution_count": 10,
   "metadata": {},
   "outputs": [
    {
     "name": "stdout",
     "output_type": "stream",
     "text": [
      "The number of rows in data after removing the duplicates : 129808\n",
      "The number of columns in data after removing the duplicates : 29\n"
     ]
    }
   ],
   "source": [
    "print(\"The number of rows in data after removing the duplicates :\",data.shape[0])\n",
    "print(\"The number of columns in data after removing the duplicates :\",data.shape[1])"
   ]
  },
  {
   "cell_type": "markdown",
   "metadata": {
    "colab_type": "text",
    "id": "XZi4w2_yuH5r"
   },
   "source": [
    "## Datatype of  Columns"
   ]
  },
  {
   "cell_type": "code",
   "execution_count": 11,
   "metadata": {
    "colab": {
     "base_uri": "https://localhost:8080/",
     "height": 527
    },
    "colab_type": "code",
    "executionInfo": {
     "elapsed": 1026,
     "status": "ok",
     "timestamp": 1564388853181,
     "user": {
      "displayName": "Tejveer Singh",
      "photoUrl": "",
      "userId": "15997953647571826254"
     },
     "user_tz": 300
    },
    "id": "pH0HagNsuH5y",
    "outputId": "040281a1-e020-4666-9351-678698b85838"
   },
   "outputs": [
    {
     "data": {
      "text/plain": [
       "DATE_FOR                  object\n",
       "RTD_ST_CD                 object\n",
       "CustomerSegment           object\n",
       "Tenure                   float64\n",
       "Age                      float64\n",
       "MART_STATUS               object\n",
       "GENDER                    object\n",
       "CHANNEL1_6M              float64\n",
       "CHANNEL2_6M              float64\n",
       "CHANNEL3_6M              float64\n",
       "CHANNEL4_6M              float64\n",
       "CHANNEL5_6M              float64\n",
       "METHOD1_6M               float64\n",
       "RECENT_PAYMENT           float64\n",
       "PAYMENTS_6M              float64\n",
       "CHANNEL1_3M                int64\n",
       "CHANNEL2_3M                int64\n",
       "CHANNEL3_3M                int64\n",
       "CHANNEL4_3M                int64\n",
       "CHANNEL5_3M                int64\n",
       "METHOD1_3M                 int64\n",
       "PAYMENTS_3M                int64\n",
       "NOT_DI_3M                  int64\n",
       "NOT_DI_6M                  int64\n",
       "EVENT1_30_FLAG             int64\n",
       "EVENT2_90_SUM              int64\n",
       "LOGINS                     int64\n",
       "POLICYPURCHASECHANNEL      int64\n",
       "Call_Flag                  int64\n",
       "dtype: object"
      ]
     },
     "execution_count": 11,
     "metadata": {},
     "output_type": "execute_result"
    }
   ],
   "source": [
    "data.dtypes"
   ]
  },
  {
   "cell_type": "markdown",
   "metadata": {},
   "source": [
    "## Which Customer Segment makes most service calls?\n",
    "## Segment 1 \n",
    "## It might have some association with response variable\n"
   ]
  },
  {
   "cell_type": "code",
   "execution_count": 163,
   "metadata": {},
   "outputs": [
    {
     "data": {
      "image/png": "[encoded data removed]",
      "text/plain": [
       "<Figure size 432x288 with 1 Axes>"
      ]
     },
     "metadata": {
      "needs_background": "light"
     },
     "output_type": "display_data"
    }
   ],
   "source": [
    "\n",
    "y=list(data.groupby('CustomerSegment')['Call_Flag'].sum().values)\n",
    "x=[1,2,3,4]\n",
    "plt.bar(range(1,5),y)\n",
    "plt.xticks(x)\n",
    "plt.xlabel(\"Customer Segment\")\n",
    "plt.ylabel('Number of Serivice Calls')\n",
    "plt.title('Customer Segment vs Service Calls')\n",
    "plt.show()\n"
   ]
  },
  {
   "cell_type": "code",
   "execution_count": null,
   "metadata": {},
   "outputs": [],
   "source": []
  },
  {
   "cell_type": "markdown",
   "metadata": {
    "colab_type": "text",
    "id": "9qBkNiAruH6C"
   },
   "source": [
    "## Checking the missing data"
   ]
  },
  {
   "cell_type": "code",
   "execution_count": 63,
   "metadata": {
    "colab": {
     "base_uri": "https://localhost:8080/",
     "height": 527
    },
    "colab_type": "code",
    "executionInfo": {
     "elapsed": 425,
     "status": "ok",
     "timestamp": 1564375157261,
     "user": {
      "displayName": "Tejveer Singh",
      "photoUrl": "",
      "userId": "15997953647571826254"
     },
     "user_tz": 300
    },
    "id": "OQynZsEAuH6g",
    "outputId": "2fe8da09-a404-40ea-9a91-18a9103ee495"
   },
   "outputs": [
    {
     "data": {
      "text/plain": [
       "DATE_FOR                   0\n",
       "RTD_ST_CD                  0\n",
       "CustomerSegment            0\n",
       "Tenure                     0\n",
       "Age                        0\n",
       "MART_STATUS                0\n",
       "GENDER                     0\n",
       "CHANNEL1_6M              809\n",
       "CHANNEL2_6M              809\n",
       "CHANNEL3_6M              809\n",
       "CHANNEL4_6M              809\n",
       "CHANNEL5_6M              809\n",
       "METHOD1_6M               809\n",
       "RECENT_PAYMENT           809\n",
       "PAYMENTS_6M              809\n",
       "CHANNEL1_3M                0\n",
       "CHANNEL2_3M                0\n",
       "CHANNEL3_3M                0\n",
       "CHANNEL4_3M                0\n",
       "CHANNEL5_3M                0\n",
       "METHOD1_3M                 0\n",
       "PAYMENTS_3M                0\n",
       "NOT_DI_3M                  0\n",
       "NOT_DI_6M                  0\n",
       "EVENT1_30_FLAG             0\n",
       "EVENT2_90_SUM              0\n",
       "LOGINS                     0\n",
       "POLICYPURCHASECHANNEL      0\n",
       "Call_Flag                  0\n",
       "dtype: int64"
      ]
     },
     "execution_count": 63,
     "metadata": {},
     "output_type": "execute_result"
    }
   ],
   "source": [
    "data.isnull().sum()"
   ]
  },
  {
   "cell_type": "markdown",
   "metadata": {
    "colab_type": "text",
    "id": "7HNPpqgquH7D"
   },
   "source": [
    "## % of missing data in the dataset"
   ]
  },
  {
   "cell_type": "code",
   "execution_count": 74,
   "metadata": {
    "colab": {
     "base_uri": "https://localhost:8080/",
     "height": 34
    },
    "colab_type": "code",
    "executionInfo": {
     "elapsed": 1168,
     "status": "ok",
     "timestamp": 1564375164243,
     "user": {
      "displayName": "Tejveer Singh",
      "photoUrl": "",
      "userId": "15997953647571826254"
     },
     "user_tz": 300
    },
    "id": "T_KMfe0fuH8B",
    "outputId": "d00a1c5b-2cc8-4af1-8a6a-a44a5e5b8bf4"
   },
   "outputs": [
    {
     "name": "stdout",
     "output_type": "stream",
     "text": [
      "The precentage of missing rows in the dataset :0.6232281523480834%\n"
     ]
    }
   ],
   "source": [
    "\n",
    "for i in range(len(data.isnull().sum())):\n",
    "    \n",
    "    if data.isnull().sum()[i]!=0:\n",
    "        print(\"The precentage of missing rows in the dataset :\",(data.isnull().sum()[i]/data.shape[0])*100,\"%\",sep=\"\")\n",
    "        break\n"
   ]
  },
  {
   "cell_type": "markdown",
   "metadata": {
    "colab_type": "text",
    "id": "JcgyAgFduH8q"
   },
   "source": [
    "## Checking weather the Target variable (call_flag) is Balanced or Not"
   ]
  },
  {
   "cell_type": "code",
   "execution_count": 75,
   "metadata": {
    "colab": {
     "base_uri": "https://localhost:8080/",
     "height": 34
    },
    "colab_type": "code",
    "executionInfo": {
     "elapsed": 768,
     "status": "ok",
     "timestamp": 1564375170712,
     "user": {
      "displayName": "Tejveer Singh",
      "photoUrl": "",
      "userId": "15997953647571826254"
     },
     "user_tz": 300
    },
    "id": "qUddY0PiuH8x",
    "outputId": "cb4c8402-128a-4f93-80c6-7861a3e1aed1"
   },
   "outputs": [
    {
     "name": "stdout",
     "output_type": "stream",
     "text": [
      "The dependent variable is unbalanced having % of (Call_Flag=1) is:3.639991371872304%\n"
     ]
    }
   ],
   "source": [
    "print (\"The dependent variable is unbalanced having % of (Call_Flag=1) is:\",float((data.Call_Flag.sum())/float(data.Call_Flag.shape[0])*100),\"%\",sep=\"\")\n"
   ]
  },
  {
   "cell_type": "markdown",
   "metadata": {
    "colab_type": "text",
    "id": "RZ-Bj9yguH9s"
   },
   "source": [
    "# Handling missing Values\n",
    "## There are two methods for handling missing values.I will evaluate my model on 2 different datasets"
   ]
  },
  {
   "cell_type": "markdown",
   "metadata": {
    "colab_type": "text",
    "id": "KZDyAiztuH9x"
   },
   "source": [
    "##  A.  There are 809 rows missing in the dataset out of which 39 rows are having call_Flag=1,As the data is already unbalanced I just don't want to remove the missing data\n"
   ]
  },
  {
   "cell_type": "code",
   "execution_count": 76,
   "metadata": {
    "colab": {
     "base_uri": "https://localhost:8080/",
     "height": 71
    },
    "colab_type": "code",
    "executionInfo": {
     "elapsed": 929,
     "status": "ok",
     "timestamp": 1564384535107,
     "user": {
      "displayName": "Tejveer Singh",
      "photoUrl": "",
      "userId": "15997953647571826254"
     },
     "user_tz": 300
    },
    "id": "FGUfzsgruH-O",
    "outputId": "7db45b24-7523-4978-c4cd-43f3f8b04c3b"
   },
   "outputs": [
    {
     "name": "stderr",
     "output_type": "stream",
     "text": [
      "/home/nitinchoudhry24/.local/lib/python3.5/site-packages/sklearn/utils/deprecation.py:66: DeprecationWarning: Class Imputer is deprecated; Imputer was deprecated in version 0.20 and will be removed in 0.22. Import impute.SimpleImputer from sklearn instead.\n",
      "  warnings.warn(msg, category=DeprecationWarning)\n"
     ]
    }
   ],
   "source": [
    "k=Imputer(strategy='most_frequent')\n",
    "data1.iloc[:,7:15]=k.fit_transform(data1.iloc[:,7:15])\n"
   ]
  },
  {
   "cell_type": "markdown",
   "metadata": {
    "colab_type": "text",
    "id": "n7vHWs2tuH_q"
   },
   "source": [
    "## B. Remove the missing Values"
   ]
  },
  {
   "cell_type": "code",
   "execution_count": 77,
   "metadata": {
    "colab": {},
    "colab_type": "code",
    "id": "HarNnKSFuH_t"
   },
   "outputs": [],
   "source": [
    "#The percentage of the missing data is verly less so i removed it\n",
    "\n",
    "data.dropna(inplace=True)"
   ]
  },
  {
   "cell_type": "markdown",
   "metadata": {
    "colab_type": "text",
    "id": "8c09MVNJuH__"
   },
   "source": [
    "# Number of unique values in each Column"
   ]
  },
  {
   "cell_type": "code",
   "execution_count": 78,
   "metadata": {
    "colab": {
     "base_uri": "https://localhost:8080/",
     "height": 697
    },
    "colab_type": "code",
    "executionInfo": {
     "elapsed": 333,
     "status": "ok",
     "timestamp": 1564375238682,
     "user": {
      "displayName": "Tejveer Singh",
      "photoUrl": "",
      "userId": "15997953647571826254"
     },
     "user_tz": 300
    },
    "id": "BLOxbigxuIAD",
    "outputId": "799ffa76-db7e-4f5f-8280-931f36b07795"
   },
   "outputs": [
    {
     "name": "stdout",
     "output_type": "stream",
     "text": [
      "There are 8 unique values in the DATE_FOR column ['5/19/2014' '5/17/2014' '5/15/2014' '5/16/2014' '5/20/2014' '5/14/2014'\n",
      " '5/13/2014' '5/18/2014']\n",
      "There are 51 unique values in the RTD_ST_CD column ['ST_S0' 'ST_S1' 'ST_S2' 'ST_S3' 'ST_S4' 'ST_S5' 'ST_S6' 'ST_S7' 'ST_S8'\n",
      " 'ST_S9' 'ST_S10' 'ST_S11' 'ST_S12' 'ST_S13' 'ST_S14' 'ST_S15' 'ST_S16'\n",
      " 'ST_S17' 'ST_S18' 'ST_S19' 'ST_S20' 'ST_S21' 'ST_S22' 'ST_S23' 'ST_S24'\n",
      " 'ST_S25' 'ST_S26' 'ST_S27' 'ST_S28' 'ST_S29' 'ST_S30' 'ST_S31' 'ST_S32'\n",
      " 'ST_S33' 'ST_S34' 'ST_S35' 'ST_S36' 'ST_S37' 'ST_S38' 'ST_S39' 'ST_S40'\n",
      " 'ST_S41' 'ST_S42' 'ST_S43' 'ST_S44' 'ST_S45' 'ST_S46' 'ST_S47' 'ST_S48'\n",
      " 'ST_S49' 'ST_S50']\n",
      "There are 4 unique values in the CustomerSegment column ['1' '3' '2' 'NONE']\n",
      "There are 10223 unique values in the Tenure column [16.175222 15.931554 15.937029 ...  0.049281  0.054757  0.046543]\n",
      "There are 22324 unique values in the Age column [78.403833 70.989733 87.578371 ... 91.895962 22.099932 21.489391]\n",
      "There are 5 unique values in the MART_STATUS column ['MS_S0' 'MS_S1' 'MS_S2' 'MS_S3' 'MS_S4']\n",
      "There are 2 unique values in the GENDER column ['F' 'M']\n",
      "There are 13 unique values in the CHANNEL1_6M column [ 0.  6.  1.  2.  5.  3.  7.  4.  9.  8. 11. 10. 12.]\n",
      "There are 17 unique values in the CHANNEL2_6M column [ 0.  6.  4.  2.  5.  3.  1.  8.  7. 12. 10.  9. 23. 11. 53. 13. 17.]\n",
      "There are 14 unique values in the CHANNEL3_6M column [ 1.  0. 10.  6.  3.  5.  4.  7.  2.  9.  8. 26. 12. 11.]\n",
      "There are 18 unique values in the CHANNEL4_6M column [ 0.  1.  4.  2.  6.  5.  3.  7. 12.  8. 10.  9. 14. 15. 18. 11. 13. 17.]\n",
      "There are 24 unique values in the CHANNEL5_6M column [ 5.  0.  6.  4.  3.  7.  1.  2. 12.  8. 17. 13. 14.  9. 11. 10. 23. 24.\n",
      " 18. 15. 29. 25. 26. 16.]\n",
      "There are 25 unique values in the METHOD1_6M column [ 0.  6.  4.  1.  2.  5.  3.  7.  8. 12. 16.  9. 10. 11. 14. 15. 17. 13.\n",
      " 24. 18. 20. 19. 53. 21. 23.]\n",
      "There are 2 unique values in the RECENT_PAYMENT column [0. 1.]\n",
      "There are 29 unique values in the PAYMENTS_6M column [ 6. 10.  1.  4.  5.  2.  7.  3.  8. 12. 14. 11.  9. 18. 13. 15. 16. 23.\n",
      " 26. 21. 22. 17. 33. 29. 24. 20. 53. 27. 19.]\n",
      "There are 7 unique values in the CHANNEL1_3M column [0 3 2 1 5 4 6]\n",
      "There are 11 unique values in the CHANNEL2_3M column [ 0  3  1  2  5  4  6 11  8 36  7]\n",
      "There are 9 unique values in the CHANNEL3_3M column [ 1  0  6  3  2  4  5 16  7]\n",
      "There are 10 unique values in the CHANNEL4_3M column [ 0  2  1  3  4  6  5  8 10  7]\n",
      "There are 16 unique values in the CHANNEL5_3M column [ 2  0  3  1  4  6  5  8  7 13  9 10 11 16 12 14]\n",
      "There are 16 unique values in the METHOD1_3M column [ 0  3  1  2  4  5  6  9  8  7 14 10 12 36 11 13]\n",
      "There are 20 unique values in the PAYMENTS_3M column [ 3  6  0  1  4  2  5  8  7  9 13 16 11 10 21 17 12 36 18 14]\n",
      "There are 2 unique values in the NOT_DI_3M column [0 1]\n",
      "There are 2 unique values in the NOT_DI_6M column [0 1]\n",
      "There are 1 unique values in the EVENT1_30_FLAG column [0]\n",
      "There are 5 unique values in the EVENT2_90_SUM column [0 2 1 3 4]\n",
      "There are 45 unique values in the LOGINS column [ 0  1  2  4  3  6  5  7 17 23  8 13 10 22 16  9 15 14 11 18 25 38 12 35\n",
      " 20 36 40 19 26 27 29 32 24 41 31 42 30 28 37 21 34 44 45 33 43]\n",
      "There are 2 unique values in the POLICYPURCHASECHANNEL column [0 1]\n",
      "There are 2 unique values in the Call_Flag column [0 1]\n"
     ]
    }
   ],
   "source": [
    "for i in data.columns:\n",
    "    print(\"There are\",len(data[i].unique()),\"unique values in the\",i,\"column\",data[i].unique())"
   ]
  },
  {
   "cell_type": "markdown",
   "metadata": {
    "colab_type": "text",
    "id": "cU_No8B4uIAw"
   },
   "source": [
    "# Statistics of the dataset\n",
    "\n",
    "## The age and tenure variable are continous variable.\n",
    "\n",
    "## The Tenure column seems to have outlier as median of the column is 7.0061 and max value is 63.091034\n",
    "## The age column seems to be normaly distributed."
   ]
  },
  {
   "cell_type": "code",
   "execution_count": 80,
   "metadata": {
    "colab": {
     "base_uri": "https://localhost:8080/",
     "height": 317
    },
    "colab_type": "code",
    "executionInfo": {
     "elapsed": 526,
     "status": "ok",
     "timestamp": 1564370680479,
     "user": {
      "displayName": "Tejveer Singh",
      "photoUrl": "",
      "userId": "15997953647571826254"
     },
     "user_tz": 300
    },
    "id": "oznFaQtTuIA0",
    "outputId": "00a3cc97-468d-4286-ab1d-e43f921835e9"
   },
   "outputs": [
    {
     "data": {
      "text/html": [
       "<div>\n",
       "<style scoped>\n",
       "    .dataframe tbody tr th:only-of-type {\n",
       "        vertical-align: middle;\n",
       "    }\n",
       "\n",
       "    .dataframe tbody tr th {\n",
       "        vertical-align: top;\n",
       "    }\n",
       "\n",
       "    .dataframe thead th {\n",
       "        text-align: right;\n",
       "    }\n",
       "</style>\n",
       "<table border=\"1\" class=\"dataframe\">\n",
       "  <thead>\n",
       "    <tr style=\"text-align: right;\">\n",
       "      <th></th>\n",
       "      <th>Tenure</th>\n",
       "      <th>Age</th>\n",
       "      <th>CHANNEL1_6M</th>\n",
       "      <th>CHANNEL2_6M</th>\n",
       "      <th>CHANNEL3_6M</th>\n",
       "      <th>CHANNEL4_6M</th>\n",
       "      <th>CHANNEL5_6M</th>\n",
       "      <th>METHOD1_6M</th>\n",
       "      <th>RECENT_PAYMENT</th>\n",
       "      <th>PAYMENTS_6M</th>\n",
       "      <th>...</th>\n",
       "      <th>CHANNEL5_3M</th>\n",
       "      <th>METHOD1_3M</th>\n",
       "      <th>PAYMENTS_3M</th>\n",
       "      <th>NOT_DI_3M</th>\n",
       "      <th>NOT_DI_6M</th>\n",
       "      <th>EVENT1_30_FLAG</th>\n",
       "      <th>EVENT2_90_SUM</th>\n",
       "      <th>LOGINS</th>\n",
       "      <th>POLICYPURCHASECHANNEL</th>\n",
       "      <th>Call_Flag</th>\n",
       "    </tr>\n",
       "  </thead>\n",
       "  <tbody>\n",
       "    <tr>\n",
       "      <th>count</th>\n",
       "      <td>128999.000000</td>\n",
       "      <td>128999.000000</td>\n",
       "      <td>128999.000000</td>\n",
       "      <td>128999.000000</td>\n",
       "      <td>128999.000000</td>\n",
       "      <td>128999.000000</td>\n",
       "      <td>128999.000000</td>\n",
       "      <td>128999.000000</td>\n",
       "      <td>128999.000000</td>\n",
       "      <td>128999.000000</td>\n",
       "      <td>...</td>\n",
       "      <td>128999.000000</td>\n",
       "      <td>128999.000000</td>\n",
       "      <td>128999.000000</td>\n",
       "      <td>128999.000000</td>\n",
       "      <td>128999.000000</td>\n",
       "      <td>128999.0</td>\n",
       "      <td>128999.000000</td>\n",
       "      <td>128999.000000</td>\n",
       "      <td>128999.000000</td>\n",
       "      <td>128999.000000</td>\n",
       "    </tr>\n",
       "    <tr>\n",
       "      <th>mean</th>\n",
       "      <td>8.590708</td>\n",
       "      <td>48.817070</td>\n",
       "      <td>0.261769</td>\n",
       "      <td>0.948558</td>\n",
       "      <td>0.812479</td>\n",
       "      <td>0.400476</td>\n",
       "      <td>0.568826</td>\n",
       "      <td>1.830006</td>\n",
       "      <td>0.105768</td>\n",
       "      <td>4.843340</td>\n",
       "      <td>...</td>\n",
       "      <td>0.284878</td>\n",
       "      <td>0.912154</td>\n",
       "      <td>2.424639</td>\n",
       "      <td>0.055985</td>\n",
       "      <td>0.080481</td>\n",
       "      <td>0.0</td>\n",
       "      <td>0.193560</td>\n",
       "      <td>0.952178</td>\n",
       "      <td>0.131265</td>\n",
       "      <td>0.036326</td>\n",
       "    </tr>\n",
       "    <tr>\n",
       "      <th>std</th>\n",
       "      <td>7.295697</td>\n",
       "      <td>14.037732</td>\n",
       "      <td>1.092337</td>\n",
       "      <td>1.869460</td>\n",
       "      <td>1.823904</td>\n",
       "      <td>1.060599</td>\n",
       "      <td>1.624297</td>\n",
       "      <td>2.582293</td>\n",
       "      <td>0.307542</td>\n",
       "      <td>2.006665</td>\n",
       "      <td>...</td>\n",
       "      <td>0.848160</td>\n",
       "      <td>1.377753</td>\n",
       "      <td>1.197834</td>\n",
       "      <td>0.229894</td>\n",
       "      <td>0.272038</td>\n",
       "      <td>0.0</td>\n",
       "      <td>0.509343</td>\n",
       "      <td>2.148501</td>\n",
       "      <td>0.337691</td>\n",
       "      <td>0.187100</td>\n",
       "    </tr>\n",
       "    <tr>\n",
       "      <th>min</th>\n",
       "      <td>0.032854</td>\n",
       "      <td>16.689938</td>\n",
       "      <td>0.000000</td>\n",
       "      <td>0.000000</td>\n",
       "      <td>0.000000</td>\n",
       "      <td>0.000000</td>\n",
       "      <td>0.000000</td>\n",
       "      <td>0.000000</td>\n",
       "      <td>0.000000</td>\n",
       "      <td>1.000000</td>\n",
       "      <td>...</td>\n",
       "      <td>0.000000</td>\n",
       "      <td>0.000000</td>\n",
       "      <td>0.000000</td>\n",
       "      <td>0.000000</td>\n",
       "      <td>0.000000</td>\n",
       "      <td>0.0</td>\n",
       "      <td>0.000000</td>\n",
       "      <td>0.000000</td>\n",
       "      <td>0.000000</td>\n",
       "      <td>0.000000</td>\n",
       "    </tr>\n",
       "    <tr>\n",
       "      <th>25%</th>\n",
       "      <td>3.252567</td>\n",
       "      <td>37.848049</td>\n",
       "      <td>0.000000</td>\n",
       "      <td>0.000000</td>\n",
       "      <td>0.000000</td>\n",
       "      <td>0.000000</td>\n",
       "      <td>0.000000</td>\n",
       "      <td>0.000000</td>\n",
       "      <td>0.000000</td>\n",
       "      <td>4.000000</td>\n",
       "      <td>...</td>\n",
       "      <td>0.000000</td>\n",
       "      <td>0.000000</td>\n",
       "      <td>2.000000</td>\n",
       "      <td>0.000000</td>\n",
       "      <td>0.000000</td>\n",
       "      <td>0.0</td>\n",
       "      <td>0.000000</td>\n",
       "      <td>0.000000</td>\n",
       "      <td>0.000000</td>\n",
       "      <td>0.000000</td>\n",
       "    </tr>\n",
       "    <tr>\n",
       "      <th>50%</th>\n",
       "      <td>7.006160</td>\n",
       "      <td>49.117043</td>\n",
       "      <td>0.000000</td>\n",
       "      <td>0.000000</td>\n",
       "      <td>0.000000</td>\n",
       "      <td>0.000000</td>\n",
       "      <td>0.000000</td>\n",
       "      <td>0.000000</td>\n",
       "      <td>0.000000</td>\n",
       "      <td>6.000000</td>\n",
       "      <td>...</td>\n",
       "      <td>0.000000</td>\n",
       "      <td>0.000000</td>\n",
       "      <td>3.000000</td>\n",
       "      <td>0.000000</td>\n",
       "      <td>0.000000</td>\n",
       "      <td>0.0</td>\n",
       "      <td>0.000000</td>\n",
       "      <td>0.000000</td>\n",
       "      <td>0.000000</td>\n",
       "      <td>0.000000</td>\n",
       "    </tr>\n",
       "    <tr>\n",
       "      <th>75%</th>\n",
       "      <td>11.627652</td>\n",
       "      <td>58.835045</td>\n",
       "      <td>0.000000</td>\n",
       "      <td>1.000000</td>\n",
       "      <td>0.000000</td>\n",
       "      <td>0.000000</td>\n",
       "      <td>0.000000</td>\n",
       "      <td>4.000000</td>\n",
       "      <td>0.000000</td>\n",
       "      <td>6.000000</td>\n",
       "      <td>...</td>\n",
       "      <td>0.000000</td>\n",
       "      <td>2.000000</td>\n",
       "      <td>3.000000</td>\n",
       "      <td>0.000000</td>\n",
       "      <td>0.000000</td>\n",
       "      <td>0.0</td>\n",
       "      <td>0.000000</td>\n",
       "      <td>1.000000</td>\n",
       "      <td>0.000000</td>\n",
       "      <td>0.000000</td>\n",
       "    </tr>\n",
       "    <tr>\n",
       "      <th>max</th>\n",
       "      <td>63.091034</td>\n",
       "      <td>99.348392</td>\n",
       "      <td>12.000000</td>\n",
       "      <td>53.000000</td>\n",
       "      <td>26.000000</td>\n",
       "      <td>18.000000</td>\n",
       "      <td>29.000000</td>\n",
       "      <td>53.000000</td>\n",
       "      <td>1.000000</td>\n",
       "      <td>53.000000</td>\n",
       "      <td>...</td>\n",
       "      <td>16.000000</td>\n",
       "      <td>36.000000</td>\n",
       "      <td>36.000000</td>\n",
       "      <td>1.000000</td>\n",
       "      <td>1.000000</td>\n",
       "      <td>0.0</td>\n",
       "      <td>4.000000</td>\n",
       "      <td>45.000000</td>\n",
       "      <td>1.000000</td>\n",
       "      <td>1.000000</td>\n",
       "    </tr>\n",
       "  </tbody>\n",
       "</table>\n",
       "<p>8 rows × 24 columns</p>\n",
       "</div>"
      ],
      "text/plain": [
       "              Tenure            Age    CHANNEL1_6M    CHANNEL2_6M  \\\n",
       "count  128999.000000  128999.000000  128999.000000  128999.000000   \n",
       "mean        8.590708      48.817070       0.261769       0.948558   \n",
       "std         7.295697      14.037732       1.092337       1.869460   \n",
       "min         0.032854      16.689938       0.000000       0.000000   \n",
       "25%         3.252567      37.848049       0.000000       0.000000   \n",
       "50%         7.006160      49.117043       0.000000       0.000000   \n",
       "75%        11.627652      58.835045       0.000000       1.000000   \n",
       "max        63.091034      99.348392      12.000000      53.000000   \n",
       "\n",
       "         CHANNEL3_6M    CHANNEL4_6M    CHANNEL5_6M     METHOD1_6M  \\\n",
       "count  128999.000000  128999.000000  128999.000000  128999.000000   \n",
       "mean        0.812479       0.400476       0.568826       1.830006   \n",
       "std         1.823904       1.060599       1.624297       2.582293   \n",
       "min         0.000000       0.000000       0.000000       0.000000   \n",
       "25%         0.000000       0.000000       0.000000       0.000000   \n",
       "50%         0.000000       0.000000       0.000000       0.000000   \n",
       "75%         0.000000       0.000000       0.000000       4.000000   \n",
       "max        26.000000      18.000000      29.000000      53.000000   \n",
       "\n",
       "       RECENT_PAYMENT    PAYMENTS_6M  ...    CHANNEL5_3M     METHOD1_3M  \\\n",
       "count   128999.000000  128999.000000  ...  128999.000000  128999.000000   \n",
       "mean         0.105768       4.843340  ...       0.284878       0.912154   \n",
       "std          0.307542       2.006665  ...       0.848160       1.377753   \n",
       "min          0.000000       1.000000  ...       0.000000       0.000000   \n",
       "25%          0.000000       4.000000  ...       0.000000       0.000000   \n",
       "50%          0.000000       6.000000  ...       0.000000       0.000000   \n",
       "75%          0.000000       6.000000  ...       0.000000       2.000000   \n",
       "max          1.000000      53.000000  ...      16.000000      36.000000   \n",
       "\n",
       "         PAYMENTS_3M      NOT_DI_3M      NOT_DI_6M  EVENT1_30_FLAG  \\\n",
       "count  128999.000000  128999.000000  128999.000000        128999.0   \n",
       "mean        2.424639       0.055985       0.080481             0.0   \n",
       "std         1.197834       0.229894       0.272038             0.0   \n",
       "min         0.000000       0.000000       0.000000             0.0   \n",
       "25%         2.000000       0.000000       0.000000             0.0   \n",
       "50%         3.000000       0.000000       0.000000             0.0   \n",
       "75%         3.000000       0.000000       0.000000             0.0   \n",
       "max        36.000000       1.000000       1.000000             0.0   \n",
       "\n",
       "       EVENT2_90_SUM         LOGINS  POLICYPURCHASECHANNEL      Call_Flag  \n",
       "count  128999.000000  128999.000000          128999.000000  128999.000000  \n",
       "mean        0.193560       0.952178               0.131265       0.036326  \n",
       "std         0.509343       2.148501               0.337691       0.187100  \n",
       "min         0.000000       0.000000               0.000000       0.000000  \n",
       "25%         0.000000       0.000000               0.000000       0.000000  \n",
       "50%         0.000000       0.000000               0.000000       0.000000  \n",
       "75%         0.000000       1.000000               0.000000       0.000000  \n",
       "max         4.000000      45.000000               1.000000       1.000000  \n",
       "\n",
       "[8 rows x 24 columns]"
      ]
     },
     "execution_count": 80,
     "metadata": {},
     "output_type": "execute_result"
    }
   ],
   "source": [
    "data.describe()\n"
   ]
  },
  {
   "cell_type": "code",
   "execution_count": null,
   "metadata": {
    "colab": {},
    "colab_type": "code",
    "id": "moc5C3y7uIBG"
   },
   "outputs": [],
   "source": []
  },
  {
   "cell_type": "markdown",
   "metadata": {
    "colab_type": "text",
    "id": "ccKk79wGuIB0"
   },
   "source": [
    "## Outlier Detection"
   ]
  },
  {
   "cell_type": "markdown",
   "metadata": {
    "colab": {},
    "colab_type": "code",
    "id": "z9FGwR0muIB5"
   },
   "source": [
    "## Density Plot of Tenure variable (It looks right skewed)\n",
    "## *Assume We are having normal Distrbution in the Tenure Variable"
   ]
  },
  {
   "cell_type": "code",
   "execution_count": 82,
   "metadata": {
    "colab": {
     "base_uri": "https://localhost:8080/",
     "height": 300
    },
    "colab_type": "code",
    "executionInfo": {
     "elapsed": 702,
     "status": "ok",
     "timestamp": 1564370687435,
     "user": {
      "displayName": "Tejveer Singh",
      "photoUrl": "",
      "userId": "15997953647571826254"
     },
     "user_tz": 300
    },
    "id": "sen1rw7YuICH",
    "outputId": "e56bf759-bc24-4a93-969e-33e80edc62d7"
   },
   "outputs": [
    {
     "data": {
      "text/plain": [
       "<matplotlib.axes._subplots.AxesSubplot at 0x7f2041fae080>"
      ]
     },
     "execution_count": 82,
     "metadata": {},
     "output_type": "execute_result"
    },
    {
     "data": {
      "image/png": "[encoded data removed]",
      "text/plain": [
       "<Figure size 432x288 with 1 Axes>"
      ]
     },
     "metadata": {
      "needs_background": "light"
     },
     "output_type": "display_data"
    }
   ],
   "source": [
    "sns.distplot(data.Tenure,hist=True, kde=True,color ='darkblue',hist_kws={'edgecolor':'black'},kde_kws={'linewidth': 4})\n"
   ]
  },
  {
   "cell_type": "markdown",
   "metadata": {
    "colab_type": "text",
    "id": "HFvezuNtuICq"
   },
   "source": [
    "## The points which are 3 standard deviation above and below the mean are outliers and we can fix the values of the outliers with a fixed value"
   ]
  },
  {
   "cell_type": "code",
   "execution_count": 83,
   "metadata": {
    "colab": {},
    "colab_type": "code",
    "id": "1ZklGvBVuICv"
   },
   "outputs": [],
   "source": [
    "outliers=[]\n",
    "def detect_outlier(data_1):\n",
    "    \n",
    "    threshold=3\n",
    "    mean_1 = np.mean(data_1)\n",
    "    std_1 =np.std(data_1)\n",
    "    \n",
    "    rem=[]\n",
    "    \n",
    "    for y in data_1:\n",
    "        z_score= (y - mean_1)/std_1 \n",
    "        if z_score>3:\n",
    "            outliers.append(y)\n",
    "            rem.append(mean_1+(3*std_1))\n",
    "        elif z_score<-3:\n",
    "            outliers.append(y)\n",
    "            rem.append(mean_1-(3*std_1))\n",
    "        \n",
    "            \n",
    "            \n",
    "        else:\n",
    "            rem.append(y)\n",
    "            \n",
    "        \n",
    "    return outliers,rem"
   ]
  },
  {
   "cell_type": "code",
   "execution_count": 84,
   "metadata": {
    "colab": {
     "base_uri": "https://localhost:8080/",
     "height": 34
    },
    "colab_type": "code",
    "executionInfo": {
     "elapsed": 456,
     "status": "ok",
     "timestamp": 1564370699757,
     "user": {
      "displayName": "Tejveer Singh",
      "photoUrl": "",
      "userId": "15997953647571826254"
     },
     "user_tz": 300
    },
    "id": "YFpcxIBHuIC-",
    "outputId": "f2035c1f-b28c-4f8a-9db5-5c7a0b50ad92"
   },
   "outputs": [
    {
     "name": "stdout",
     "output_type": "stream",
     "text": [
      "The number of outlier in Data.Tenure feature 2466\n"
     ]
    }
   ],
   "source": [
    "print(\"The number of outlier in Data.Tenure feature\",len(detect_outlier(data.Tenure)[0]))"
   ]
  },
  {
   "cell_type": "markdown",
   "metadata": {
    "colab_type": "text",
    "id": "Wq8V7yrauIDN"
   },
   "source": [
    "## Applying log transformation to see if outliers can be handled effectively"
   ]
  },
  {
   "cell_type": "code",
   "execution_count": 85,
   "metadata": {
    "colab": {
     "base_uri": "https://localhost:8080/",
     "height": 300
    },
    "colab_type": "code",
    "executionInfo": {
     "elapsed": 1016,
     "status": "ok",
     "timestamp": 1564370705867,
     "user": {
      "displayName": "Tejveer Singh",
      "photoUrl": "",
      "userId": "15997953647571826254"
     },
     "user_tz": 300
    },
    "id": "MDm0rcoxuIDm",
    "outputId": "a42aaf4d-ca31-4e78-dc25-8ca811c2c0bc"
   },
   "outputs": [
    {
     "data": {
      "text/plain": [
       "<matplotlib.axes._subplots.AxesSubplot at 0x7f2041f6c940>"
      ]
     },
     "execution_count": 85,
     "metadata": {},
     "output_type": "execute_result"
    },
    {
     "data": {
      "image/png": "[encoded data removed]",
      "text/plain": [
       "<Figure size 432x288 with 1 Axes>"
      ]
     },
     "metadata": {
      "needs_background": "light"
     },
     "output_type": "display_data"
    }
   ],
   "source": [
    "sns.distplot(np.log(data.Tenure),hist=True, kde=True,color ='darkblue',hist_kws={'edgecolor':'black'},kde_kws={'linewidth': 4})"
   ]
  },
  {
   "cell_type": "code",
   "execution_count": 86,
   "metadata": {
    "colab": {
     "base_uri": "https://localhost:8080/",
     "height": 34
    },
    "colab_type": "code",
    "executionInfo": {
     "elapsed": 469,
     "status": "ok",
     "timestamp": 1564370707715,
     "user": {
      "displayName": "Tejveer Singh",
      "photoUrl": "",
      "userId": "15997953647571826254"
     },
     "user_tz": 300
    },
    "id": "WueOGGnTuIDz",
    "outputId": "2515714e-8660-4ace-ec75-8304078aadd6"
   },
   "outputs": [
    {
     "name": "stdout",
     "output_type": "stream",
     "text": [
      "The number of outlier in np.log(Data.Tenure) feature 4859\n"
     ]
    }
   ],
   "source": [
    "print(\"The number of outlier in np.log(Data.Tenure) feature\",len(detect_outlier(np.log(data.Tenure))[0]))"
   ]
  },
  {
   "cell_type": "markdown",
   "metadata": {
    "colab_type": "text",
    "id": "_meFRE7BuIEM"
   },
   "source": [
    "## Since the outliers number is very high still after the log transformation so outlier cannot be remove from this variable "
   ]
  },
  {
   "cell_type": "markdown",
   "metadata": {
    "colab_type": "text",
    "id": "BZR3nbmEuIEO"
   },
   "source": [
    "# Solution:\n",
    "# A. No need to remove the outliers as they might represent a pattern in the data\n",
    "# B. Outliers should be replace with the fixed values which are 3 standard deviation above and below the mean "
   ]
  },
  {
   "cell_type": "code",
   "execution_count": 87,
   "metadata": {
    "colab": {},
    "colab_type": "code",
    "id": "-msdFXBJuIEQ"
   },
   "outputs": [],
   "source": [
    "data1['Tenure_tranform']=detect_outlier(data1.Tenure)[1]"
   ]
  },
  {
   "cell_type": "code",
   "execution_count": null,
   "metadata": {},
   "outputs": [],
   "source": []
  },
  {
   "cell_type": "markdown",
   "metadata": {
    "colab_type": "text",
    "id": "9RMPhYl2uIEk"
   },
   "source": [
    "\n",
    "# Detect outliers in Age Variable"
   ]
  },
  {
   "cell_type": "code",
   "execution_count": 88,
   "metadata": {
    "colab": {
     "base_uri": "https://localhost:8080/",
     "height": 300
    },
    "colab_type": "code",
    "executionInfo": {
     "elapsed": 649,
     "status": "ok",
     "timestamp": 1564370763580,
     "user": {
      "displayName": "Tejveer Singh",
      "photoUrl": "",
      "userId": "15997953647571826254"
     },
     "user_tz": 300
    },
    "id": "Hvi-AIoguIEv",
    "outputId": "d5c782d6-da08-4c57-a60c-bfb9a85dc093"
   },
   "outputs": [
    {
     "data": {
      "text/plain": [
       "<matplotlib.axes._subplots.AxesSubplot at 0x7f20423999e8>"
      ]
     },
     "execution_count": 88,
     "metadata": {},
     "output_type": "execute_result"
    },
    {
     "data": {
      "image/png": "[encoded data removed]",
      "text/plain": [
       "<Figure size 432x288 with 1 Axes>"
      ]
     },
     "metadata": {
      "needs_background": "light"
     },
     "output_type": "display_data"
    }
   ],
   "source": [
    "sns.distplot((data.Age),hist=True, kde=True,color ='darkblue',hist_kws={'edgecolor':'black'},kde_kws={'linewidth': 4})\n"
   ]
  },
  {
   "cell_type": "markdown",
   "metadata": {
    "colab_type": "text",
    "id": "5ajqVAmVuIE4"
   },
   "source": [
    "## It looks normally distributed with less outliers so outliers in the variable can be ignored\n"
   ]
  },
  {
   "cell_type": "code",
   "execution_count": 89,
   "metadata": {
    "colab": {},
    "colab_type": "code",
    "id": "j-WLG0gbuIFZ"
   },
   "outputs": [
    {
     "data": {
      "text/plain": [
       "{'boxes': [<matplotlib.patches.PathPatch at 0x7f2041c408d0>],\n",
       " 'caps': [<matplotlib.lines.Line2D at 0x7f2041c40fd0>,\n",
       "  <matplotlib.lines.Line2D at 0x7f2041c4a358>],\n",
       " 'fliers': [<matplotlib.lines.Line2D at 0x7f2041c4a9e8>],\n",
       " 'means': [],\n",
       " 'medians': [<matplotlib.lines.Line2D at 0x7f2041c4a6a0>],\n",
       " 'whiskers': [<matplotlib.lines.Line2D at 0x7f2041c40b38>,\n",
       "  <matplotlib.lines.Line2D at 0x7f2041c40c88>]}"
      ]
     },
     "execution_count": 89,
     "metadata": {},
     "output_type": "execute_result"
    },
    {
     "data": {
      "image/png": "[encoded data removed]",
      "text/plain": [
       "<Figure size 432x288 with 1 Axes>"
      ]
     },
     "metadata": {
      "needs_background": "light"
     },
     "output_type": "display_data"
    }
   ],
   "source": [
    "plt.boxplot(data.Age,patch_artist=True,labels=['Tenure'],vert=0)"
   ]
  },
  {
   "cell_type": "code",
   "execution_count": 90,
   "metadata": {
    "colab": {},
    "colab_type": "code",
    "id": "uDwvf69iuIFm"
   },
   "outputs": [
    {
     "data": {
      "text/plain": [
       "count    128999.000000\n",
       "mean         48.817070\n",
       "std          14.037732\n",
       "min          16.689938\n",
       "25%          37.848049\n",
       "50%          49.117043\n",
       "75%          58.835045\n",
       "max          99.348392\n",
       "Name: Age, dtype: float64"
      ]
     },
     "execution_count": 90,
     "metadata": {},
     "output_type": "execute_result"
    }
   ],
   "source": [
    "data['Age'].describe()"
   ]
  },
  {
   "cell_type": "markdown",
   "metadata": {
    "colab_type": "text",
    "id": "kl_e7RMZuIF5"
   },
   "source": [
    "## Feature engineering (Binning the categorical variables)\n",
    "## Rated state of the policy represents 51 unique states instead of creating too many dummy variables we can create buckets with states have people where service call rate is higher are rank more."
   ]
  },
  {
   "cell_type": "code",
   "execution_count": 91,
   "metadata": {
    "colab": {},
    "colab_type": "code",
    "id": "TgHHXF08uIGM"
   },
   "outputs": [],
   "source": [
    "data = data.join(pd.cut(data.groupby(\n",
    "            \"RTD_ST_CD\")[\"Call_Flag\"].mean().sort_values(), 4, labels=[\n",
    "            \"0\",\"1\",\"2\",\"3\"]), on=\"RTD_ST_CD\", rsuffix=\"_ST\")\n",
    "\n",
    "data1 = data1.join(pd.cut(data1.groupby(\n",
    "            \"RTD_ST_CD\")[\"Call_Flag\"].mean().sort_values(), 4, labels=[\n",
    "            \"0\",\"1\",\"2\",\"3\"]), on=\"RTD_ST_CD\", rsuffix=\"_ST\")"
   ]
  },
  {
   "cell_type": "markdown",
   "metadata": {
    "colab_type": "text",
    "id": "DZ-csFp0uIGb"
   },
   "source": [
    "## The age of the policy holder can be grouped into four categories:\n",
    "## 16 years-29 years -Young\n",
    "## 29-45 -Mature\n",
    "## 45-60 -Middle age\n",
    "## 60-100 -Old Age"
   ]
  },
  {
   "cell_type": "code",
   "execution_count": 92,
   "metadata": {
    "colab": {
     "base_uri": "https://localhost:8080/",
     "height": 170
    },
    "colab_type": "code",
    "executionInfo": {
     "elapsed": 480,
     "status": "ok",
     "timestamp": 1564393046663,
     "user": {
      "displayName": "Tejveer Singh",
      "photoUrl": "",
      "userId": "15997953647571826254"
     },
     "user_tz": 300
    },
    "id": "fW-xbD6AuIGr",
    "outputId": "33942894-b00f-45d2-9b66-1cc15a4fe2a6"
   },
   "outputs": [
    {
     "data": {
      "text/plain": [
       "count    129808.000000\n",
       "mean         48.845383\n",
       "std          14.038682\n",
       "min          16.689938\n",
       "25%          37.880903\n",
       "50%          49.152635\n",
       "75%          58.858316\n",
       "max          99.348392\n",
       "Name: Age, dtype: float64"
      ]
     },
     "execution_count": 92,
     "metadata": {},
     "output_type": "execute_result"
    }
   ],
   "source": [
    "data1['Age'].describe()\n"
   ]
  },
  {
   "cell_type": "code",
   "execution_count": 93,
   "metadata": {
    "colab": {},
    "colab_type": "code",
    "id": "JSHWyETRuIHE"
   },
   "outputs": [],
   "source": [
    "bins = [16,29,45,60,100]\n",
    "labels=[0,1,2,3]\n",
    "data1['binned_age'] = pd.cut(data1['Age'], bins,labels=labels)"
   ]
  },
  {
   "cell_type": "code",
   "execution_count": null,
   "metadata": {
    "colab": {},
    "colab_type": "code",
    "id": "Jl5Zb4ccuIIg"
   },
   "outputs": [],
   "source": []
  },
  {
   "cell_type": "markdown",
   "metadata": {
    "colab_type": "text",
    "id": "jm_w-S6JuII0"
   },
   "source": [
    "# Drop the Date variable as it just seems from data description on that data was pulled out from the database"
   ]
  },
  {
   "cell_type": "code",
   "execution_count": 97,
   "metadata": {
    "colab": {},
    "colab_type": "code",
    "id": "zX1QnrFvuII2"
   },
   "outputs": [],
   "source": [
    "data.drop([\"DATE_FOR\", \"RTD_ST_CD\"], axis=1, inplace=True)\n",
    "data1.drop([\"DATE_FOR\", \"RTD_ST_CD\"], axis=1, inplace=True)\n"
   ]
  },
  {
   "cell_type": "markdown",
   "metadata": {
    "colab_type": "text",
    "id": "C3Do6XzXuIJI"
   },
   "source": [
    "# Create dummy variables for the categorical data"
   ]
  },
  {
   "cell_type": "code",
   "execution_count": 98,
   "metadata": {
    "colab": {},
    "colab_type": "code",
    "id": "QBiU-zv6uIJM"
   },
   "outputs": [],
   "source": [
    "data_1 = pd.get_dummies(data['CustomerSegment'], prefix='CustomerSegment',drop_first=True).astype('bool')\n",
    "data_2 = pd.get_dummies(data['MART_STATUS'], prefix='MART_STATUS').astype('bool')\n",
    "data_3 = pd.get_dummies(data['GENDER'], prefix='GENDER',drop_first=True).astype('bool')\n",
    "data_4 = pd.get_dummies(data['Call_Flag_ST'], prefix='RTD_ST_CD',drop_first=True).astype('bool')\n",
    "#data_5 = pd.get_dummies(data['binned_Tenure'], prefix='Tenure',drop_first=True).astype('bool')\n",
    "#data_6 = pd.get_dummies(data['binned_age'], prefix='Age',drop_first=True).astype('bool')\n",
    "\n",
    "data.drop(['CustomerSegment','MART_STATUS','GENDER','Call_Flag_ST'], axis=1, inplace=True)\n",
    "data = pd.concat([data, data_1,data_2,data_3,data_4], axis=1)"
   ]
  },
  {
   "cell_type": "code",
   "execution_count": 99,
   "metadata": {
    "colab": {},
    "colab_type": "code",
    "id": "MBQShPDQuIJZ"
   },
   "outputs": [],
   "source": [
    "data_1 = pd.get_dummies(data1['CustomerSegment'], prefix='CustomerSegment',drop_first=True).astype('bool')\n",
    "data_2 = pd.get_dummies(data1['MART_STATUS'], prefix='MART_STATUS').astype('bool')\n",
    "data_3 = pd.get_dummies(data1['GENDER'], prefix='GENDER',drop_first=True).astype('bool')\n",
    "data_4 = pd.get_dummies(data1['Call_Flag_ST'], prefix='RTD_ST_CD',drop_first=True).astype('bool')\n",
    "#data_5 = pd.get_dummies(data1['binned_Tenure'], prefix='Tenure',drop_first=True).astype('bool')\n",
    "data_6 = pd.get_dummies(data1['binned_age'], prefix='Age',drop_first=True).astype('bool')\n",
    "\n",
    "data1.drop(['CustomerSegment','MART_STATUS','GENDER','Call_Flag_ST','binned_age','Age','Tenure'], axis=1, inplace=True)\n",
    "data1 = pd.concat([data1, data_1,data_2,data_3,data_4,data_6], axis=1)"
   ]
  },
  {
   "cell_type": "code",
   "execution_count": null,
   "metadata": {
    "colab": {},
    "colab_type": "code",
    "id": "hBP5LjA5uIJ-"
   },
   "outputs": [],
   "source": []
  },
  {
   "cell_type": "markdown",
   "metadata": {
    "colab_type": "text",
    "id": "PqCHqRShuIKS"
   },
   "source": [
    "## Check Correlation with different modes of channel payment\n",
    "\n",
    "## High Correlation\n",
    "## CHANNEL3_6M=CHANNEL3_3M (0.96)\n",
    "## CHANNEL4_6M=CHANNEL4_3M (0.88)\n",
    "## CHANNEL5_6M=CHANNEL5_3M  (0.97)\n",
    "## METHOD1_6M=METHOD1_3M   (0.94)\n",
    "## PAYMENT_3M=PAYMENT_6M (0.85)"
   ]
  },
  {
   "cell_type": "code",
   "execution_count": 100,
   "metadata": {
    "colab": {
     "base_uri": "https://localhost:8080/",
     "height": 291
    },
    "colab_type": "code",
    "executionInfo": {
     "elapsed": 1109,
     "status": "ok",
     "timestamp": 1564386744946,
     "user": {
      "displayName": "Tejveer Singh",
      "photoUrl": "",
      "userId": "15997953647571826254"
     },
     "user_tz": 300
    },
    "id": "9SVCM0DnuIKV",
    "outputId": "0a2012bb-58b0-48ff-d935-145806070615"
   },
   "outputs": [
    {
     "data": {
      "text/html": [
       "<style  type=\"text/css\" >\n",
       "    #T_4f3dc620_b316_11e9_bc52_42010a800002row0_col0 {\n",
       "            background-color:  #b40426;\n",
       "            color:  #f1f1f1;\n",
       "        }    #T_4f3dc620_b316_11e9_bc52_42010a800002row0_col1 {\n",
       "            background-color:  #5572df;\n",
       "            color:  #000000;\n",
       "        }    #T_4f3dc620_b316_11e9_bc52_42010a800002row0_col2 {\n",
       "            background-color:  #688aef;\n",
       "            color:  #000000;\n",
       "        }    #T_4f3dc620_b316_11e9_bc52_42010a800002row0_col3 {\n",
       "            background-color:  #688aef;\n",
       "            color:  #000000;\n",
       "        }    #T_4f3dc620_b316_11e9_bc52_42010a800002row0_col4 {\n",
       "            background-color:  #5f7fe8;\n",
       "            color:  #000000;\n",
       "        }    #T_4f3dc620_b316_11e9_bc52_42010a800002row0_col5 {\n",
       "            background-color:  #dcdddd;\n",
       "            color:  #000000;\n",
       "        }    #T_4f3dc620_b316_11e9_bc52_42010a800002row0_col6 {\n",
       "            background-color:  #d24b40;\n",
       "            color:  #f1f1f1;\n",
       "        }    #T_4f3dc620_b316_11e9_bc52_42010a800002row0_col7 {\n",
       "            background-color:  #5572df;\n",
       "            color:  #000000;\n",
       "        }    #T_4f3dc620_b316_11e9_bc52_42010a800002row0_col8 {\n",
       "            background-color:  #6788ee;\n",
       "            color:  #000000;\n",
       "        }    #T_4f3dc620_b316_11e9_bc52_42010a800002row0_col9 {\n",
       "            background-color:  #6b8df0;\n",
       "            color:  #000000;\n",
       "        }    #T_4f3dc620_b316_11e9_bc52_42010a800002row0_col10 {\n",
       "            background-color:  #5e7de7;\n",
       "            color:  #000000;\n",
       "        }    #T_4f3dc620_b316_11e9_bc52_42010a800002row1_col0 {\n",
       "            background-color:  #3d50c3;\n",
       "            color:  #f1f1f1;\n",
       "        }    #T_4f3dc620_b316_11e9_bc52_42010a800002row1_col1 {\n",
       "            background-color:  #b40426;\n",
       "            color:  #f1f1f1;\n",
       "        }    #T_4f3dc620_b316_11e9_bc52_42010a800002row1_col2 {\n",
       "            background-color:  #516ddb;\n",
       "            color:  #000000;\n",
       "        }    #T_4f3dc620_b316_11e9_bc52_42010a800002row1_col3 {\n",
       "            background-color:  #688aef;\n",
       "            color:  #000000;\n",
       "        }    #T_4f3dc620_b316_11e9_bc52_42010a800002row1_col4 {\n",
       "            background-color:  #4961d2;\n",
       "            color:  #f1f1f1;\n",
       "        }    #T_4f3dc620_b316_11e9_bc52_42010a800002row1_col5 {\n",
       "            background-color:  #adc9fd;\n",
       "            color:  #000000;\n",
       "        }    #T_4f3dc620_b316_11e9_bc52_42010a800002row1_col6 {\n",
       "            background-color:  #3c4ec2;\n",
       "            color:  #f1f1f1;\n",
       "        }    #T_4f3dc620_b316_11e9_bc52_42010a800002row1_col7 {\n",
       "            background-color:  #c43032;\n",
       "            color:  #f1f1f1;\n",
       "        }    #T_4f3dc620_b316_11e9_bc52_42010a800002row1_col8 {\n",
       "            background-color:  #506bda;\n",
       "            color:  #000000;\n",
       "        }    #T_4f3dc620_b316_11e9_bc52_42010a800002row1_col9 {\n",
       "            background-color:  #6282ea;\n",
       "            color:  #000000;\n",
       "        }    #T_4f3dc620_b316_11e9_bc52_42010a800002row1_col10 {\n",
       "            background-color:  #485fd1;\n",
       "            color:  #f1f1f1;\n",
       "        }    #T_4f3dc620_b316_11e9_bc52_42010a800002row2_col0 {\n",
       "            background-color:  #3b4cc0;\n",
       "            color:  #f1f1f1;\n",
       "        }    #T_4f3dc620_b316_11e9_bc52_42010a800002row2_col1 {\n",
       "            background-color:  #3b4cc0;\n",
       "            color:  #f1f1f1;\n",
       "        }    #T_4f3dc620_b316_11e9_bc52_42010a800002row2_col2 {\n",
       "            background-color:  #b40426;\n",
       "            color:  #f1f1f1;\n",
       "        }    #T_4f3dc620_b316_11e9_bc52_42010a800002row2_col3 {\n",
       "            background-color:  #3b4cc0;\n",
       "            color:  #f1f1f1;\n",
       "        }    #T_4f3dc620_b316_11e9_bc52_42010a800002row2_col4 {\n",
       "            background-color:  #4c66d6;\n",
       "            color:  #000000;\n",
       "        }    #T_4f3dc620_b316_11e9_bc52_42010a800002row2_col5 {\n",
       "            background-color:  #3b4cc0;\n",
       "            color:  #f1f1f1;\n",
       "        }    #T_4f3dc620_b316_11e9_bc52_42010a800002row2_col6 {\n",
       "            background-color:  #3b4cc0;\n",
       "            color:  #f1f1f1;\n",
       "        }    #T_4f3dc620_b316_11e9_bc52_42010a800002row2_col7 {\n",
       "            background-color:  #3b4cc0;\n",
       "            color:  #f1f1f1;\n",
       "        }    #T_4f3dc620_b316_11e9_bc52_42010a800002row2_col8 {\n",
       "            background-color:  #be242e;\n",
       "            color:  #f1f1f1;\n",
       "        }    #T_4f3dc620_b316_11e9_bc52_42010a800002row2_col9 {\n",
       "            background-color:  #3b4cc0;\n",
       "            color:  #f1f1f1;\n",
       "        }    #T_4f3dc620_b316_11e9_bc52_42010a800002row2_col10 {\n",
       "            background-color:  #4b64d5;\n",
       "            color:  #f1f1f1;\n",
       "        }    #T_4f3dc620_b316_11e9_bc52_42010a800002row3_col0 {\n",
       "            background-color:  #6282ea;\n",
       "            color:  #000000;\n",
       "        }    #T_4f3dc620_b316_11e9_bc52_42010a800002row3_col1 {\n",
       "            background-color:  #7a9df8;\n",
       "            color:  #000000;\n",
       "        }    #T_4f3dc620_b316_11e9_bc52_42010a800002row3_col2 {\n",
       "            background-color:  #6282ea;\n",
       "            color:  #000000;\n",
       "        }    #T_4f3dc620_b316_11e9_bc52_42010a800002row3_col3 {\n",
       "            background-color:  #b40426;\n",
       "            color:  #f1f1f1;\n",
       "        }    #T_4f3dc620_b316_11e9_bc52_42010a800002row3_col4 {\n",
       "            background-color:  #5572df;\n",
       "            color:  #000000;\n",
       "        }    #T_4f3dc620_b316_11e9_bc52_42010a800002row3_col5 {\n",
       "            background-color:  #bed2f6;\n",
       "            color:  #000000;\n",
       "        }    #T_4f3dc620_b316_11e9_bc52_42010a800002row3_col6 {\n",
       "            background-color:  #5a78e4;\n",
       "            color:  #000000;\n",
       "        }    #T_4f3dc620_b316_11e9_bc52_42010a800002row3_col7 {\n",
       "            background-color:  #799cf8;\n",
       "            color:  #000000;\n",
       "        }    #T_4f3dc620_b316_11e9_bc52_42010a800002row3_col8 {\n",
       "            background-color:  #6180e9;\n",
       "            color:  #000000;\n",
       "        }    #T_4f3dc620_b316_11e9_bc52_42010a800002row3_col9 {\n",
       "            background-color:  #d95847;\n",
       "            color:  #000000;\n",
       "        }    #T_4f3dc620_b316_11e9_bc52_42010a800002row3_col10 {\n",
       "            background-color:  #5470de;\n",
       "            color:  #000000;\n",
       "        }    #T_4f3dc620_b316_11e9_bc52_42010a800002row4_col0 {\n",
       "            background-color:  #4055c8;\n",
       "            color:  #f1f1f1;\n",
       "        }    #T_4f3dc620_b316_11e9_bc52_42010a800002row4_col1 {\n",
       "            background-color:  #4055c8;\n",
       "            color:  #f1f1f1;\n",
       "        }    #T_4f3dc620_b316_11e9_bc52_42010a800002row4_col2 {\n",
       "            background-color:  #5b7ae5;\n",
       "            color:  #000000;\n",
       "        }    #T_4f3dc620_b316_11e9_bc52_42010a800002row4_col3 {\n",
       "            background-color:  #3d50c3;\n",
       "            color:  #f1f1f1;\n",
       "        }    #T_4f3dc620_b316_11e9_bc52_42010a800002row4_col4 {\n",
       "            background-color:  #b40426;\n",
       "            color:  #f1f1f1;\n",
       "        }    #T_4f3dc620_b316_11e9_bc52_42010a800002row4_col5 {\n",
       "            background-color:  #4a63d3;\n",
       "            color:  #f1f1f1;\n",
       "        }    #T_4f3dc620_b316_11e9_bc52_42010a800002row4_col6 {\n",
       "            background-color:  #3f53c6;\n",
       "            color:  #f1f1f1;\n",
       "        }    #T_4f3dc620_b316_11e9_bc52_42010a800002row4_col7 {\n",
       "            background-color:  #4055c8;\n",
       "            color:  #f1f1f1;\n",
       "        }    #T_4f3dc620_b316_11e9_bc52_42010a800002row4_col8 {\n",
       "            background-color:  #5a78e4;\n",
       "            color:  #000000;\n",
       "        }    #T_4f3dc620_b316_11e9_bc52_42010a800002row4_col9 {\n",
       "            background-color:  #3d50c3;\n",
       "            color:  #f1f1f1;\n",
       "        }    #T_4f3dc620_b316_11e9_bc52_42010a800002row4_col10 {\n",
       "            background-color:  #be242e;\n",
       "            color:  #f1f1f1;\n",
       "        }    #T_4f3dc620_b316_11e9_bc52_42010a800002row5_col0 {\n",
       "            background-color:  #c4d5f3;\n",
       "            color:  #000000;\n",
       "        }    #T_4f3dc620_b316_11e9_bc52_42010a800002row5_col1 {\n",
       "            background-color:  #9abbff;\n",
       "            color:  #000000;\n",
       "        }    #T_4f3dc620_b316_11e9_bc52_42010a800002row5_col2 {\n",
       "            background-color:  #3b4cc0;\n",
       "            color:  #f1f1f1;\n",
       "        }    #T_4f3dc620_b316_11e9_bc52_42010a800002row5_col3 {\n",
       "            background-color:  #a1c0ff;\n",
       "            color:  #000000;\n",
       "        }    #T_4f3dc620_b316_11e9_bc52_42010a800002row5_col4 {\n",
       "            background-color:  #3b4cc0;\n",
       "            color:  #f1f1f1;\n",
       "        }    #T_4f3dc620_b316_11e9_bc52_42010a800002row5_col5 {\n",
       "            background-color:  #b40426;\n",
       "            color:  #f1f1f1;\n",
       "        }    #T_4f3dc620_b316_11e9_bc52_42010a800002row5_col6 {\n",
       "            background-color:  #b1cbfc;\n",
       "            color:  #000000;\n",
       "        }    #T_4f3dc620_b316_11e9_bc52_42010a800002row5_col7 {\n",
       "            background-color:  #98b9ff;\n",
       "            color:  #000000;\n",
       "        }    #T_4f3dc620_b316_11e9_bc52_42010a800002row5_col8 {\n",
       "            background-color:  #3b4cc0;\n",
       "            color:  #f1f1f1;\n",
       "        }    #T_4f3dc620_b316_11e9_bc52_42010a800002row5_col9 {\n",
       "            background-color:  #96b7ff;\n",
       "            color:  #000000;\n",
       "        }    #T_4f3dc620_b316_11e9_bc52_42010a800002row5_col10 {\n",
       "            background-color:  #3b4cc0;\n",
       "            color:  #f1f1f1;\n",
       "        }    #T_4f3dc620_b316_11e9_bc52_42010a800002row6_col0 {\n",
       "            background-color:  #d24b40;\n",
       "            color:  #f1f1f1;\n",
       "        }    #T_4f3dc620_b316_11e9_bc52_42010a800002row6_col1 {\n",
       "            background-color:  #5673e0;\n",
       "            color:  #000000;\n",
       "        }    #T_4f3dc620_b316_11e9_bc52_42010a800002row6_col2 {\n",
       "            background-color:  #6b8df0;\n",
       "            color:  #000000;\n",
       "        }    #T_4f3dc620_b316_11e9_bc52_42010a800002row6_col3 {\n",
       "            background-color:  #6485ec;\n",
       "            color:  #000000;\n",
       "        }    #T_4f3dc620_b316_11e9_bc52_42010a800002row6_col4 {\n",
       "            background-color:  #6282ea;\n",
       "            color:  #000000;\n",
       "        }    #T_4f3dc620_b316_11e9_bc52_42010a800002row6_col5 {\n",
       "            background-color:  #cfdaea;\n",
       "            color:  #000000;\n",
       "        }    #T_4f3dc620_b316_11e9_bc52_42010a800002row6_col6 {\n",
       "            background-color:  #b40426;\n",
       "            color:  #f1f1f1;\n",
       "        }    #T_4f3dc620_b316_11e9_bc52_42010a800002row6_col7 {\n",
       "            background-color:  #5673e0;\n",
       "            color:  #000000;\n",
       "        }    #T_4f3dc620_b316_11e9_bc52_42010a800002row6_col8 {\n",
       "            background-color:  #6a8bef;\n",
       "            color:  #000000;\n",
       "        }    #T_4f3dc620_b316_11e9_bc52_42010a800002row6_col9 {\n",
       "            background-color:  #6485ec;\n",
       "            color:  #000000;\n",
       "        }    #T_4f3dc620_b316_11e9_bc52_42010a800002row6_col10 {\n",
       "            background-color:  #6180e9;\n",
       "            color:  #000000;\n",
       "        }    #T_4f3dc620_b316_11e9_bc52_42010a800002row7_col0 {\n",
       "            background-color:  #4055c8;\n",
       "            color:  #f1f1f1;\n",
       "        }    #T_4f3dc620_b316_11e9_bc52_42010a800002row7_col1 {\n",
       "            background-color:  #c32e31;\n",
       "            color:  #f1f1f1;\n",
       "        }    #T_4f3dc620_b316_11e9_bc52_42010a800002row7_col2 {\n",
       "            background-color:  #5470de;\n",
       "            color:  #000000;\n",
       "        }    #T_4f3dc620_b316_11e9_bc52_42010a800002row7_col3 {\n",
       "            background-color:  #6b8df0;\n",
       "            color:  #000000;\n",
       "        }    #T_4f3dc620_b316_11e9_bc52_42010a800002row7_col4 {\n",
       "            background-color:  #4b64d5;\n",
       "            color:  #f1f1f1;\n",
       "        }    #T_4f3dc620_b316_11e9_bc52_42010a800002row7_col5 {\n",
       "            background-color:  #adc9fd;\n",
       "            color:  #000000;\n",
       "        }    #T_4f3dc620_b316_11e9_bc52_42010a800002row7_col6 {\n",
       "            background-color:  #3e51c5;\n",
       "            color:  #f1f1f1;\n",
       "        }    #T_4f3dc620_b316_11e9_bc52_42010a800002row7_col7 {\n",
       "            background-color:  #b40426;\n",
       "            color:  #f1f1f1;\n",
       "        }    #T_4f3dc620_b316_11e9_bc52_42010a800002row7_col8 {\n",
       "            background-color:  #516ddb;\n",
       "            color:  #000000;\n",
       "        }    #T_4f3dc620_b316_11e9_bc52_42010a800002row7_col9 {\n",
       "            background-color:  #5a78e4;\n",
       "            color:  #000000;\n",
       "        }    #T_4f3dc620_b316_11e9_bc52_42010a800002row7_col10 {\n",
       "            background-color:  #4961d2;\n",
       "            color:  #f1f1f1;\n",
       "        }    #T_4f3dc620_b316_11e9_bc52_42010a800002row8_col0 {\n",
       "            background-color:  #3c4ec2;\n",
       "            color:  #f1f1f1;\n",
       "        }    #T_4f3dc620_b316_11e9_bc52_42010a800002row8_col1 {\n",
       "            background-color:  #3c4ec2;\n",
       "            color:  #f1f1f1;\n",
       "        }    #T_4f3dc620_b316_11e9_bc52_42010a800002row8_col2 {\n",
       "            background-color:  #bd1f2d;\n",
       "            color:  #f1f1f1;\n",
       "        }    #T_4f3dc620_b316_11e9_bc52_42010a800002row8_col3 {\n",
       "            background-color:  #3c4ec2;\n",
       "            color:  #f1f1f1;\n",
       "        }    #T_4f3dc620_b316_11e9_bc52_42010a800002row8_col4 {\n",
       "            background-color:  #4e68d8;\n",
       "            color:  #000000;\n",
       "        }    #T_4f3dc620_b316_11e9_bc52_42010a800002row8_col5 {\n",
       "            background-color:  #3d50c3;\n",
       "            color:  #f1f1f1;\n",
       "        }    #T_4f3dc620_b316_11e9_bc52_42010a800002row8_col6 {\n",
       "            background-color:  #3c4ec2;\n",
       "            color:  #f1f1f1;\n",
       "        }    #T_4f3dc620_b316_11e9_bc52_42010a800002row8_col7 {\n",
       "            background-color:  #3b4cc0;\n",
       "            color:  #f1f1f1;\n",
       "        }    #T_4f3dc620_b316_11e9_bc52_42010a800002row8_col8 {\n",
       "            background-color:  #b40426;\n",
       "            color:  #f1f1f1;\n",
       "        }    #T_4f3dc620_b316_11e9_bc52_42010a800002row8_col9 {\n",
       "            background-color:  #3b4cc0;\n",
       "            color:  #f1f1f1;\n",
       "        }    #T_4f3dc620_b316_11e9_bc52_42010a800002row8_col10 {\n",
       "            background-color:  #4c66d6;\n",
       "            color:  #000000;\n",
       "        }    #T_4f3dc620_b316_11e9_bc52_42010a800002row9_col0 {\n",
       "            background-color:  #688aef;\n",
       "            color:  #000000;\n",
       "        }    #T_4f3dc620_b316_11e9_bc52_42010a800002row9_col1 {\n",
       "            background-color:  #7699f6;\n",
       "            color:  #000000;\n",
       "        }    #T_4f3dc620_b316_11e9_bc52_42010a800002row9_col2 {\n",
       "            background-color:  #6687ed;\n",
       "            color:  #000000;\n",
       "        }    #T_4f3dc620_b316_11e9_bc52_42010a800002row9_col3 {\n",
       "            background-color:  #d95847;\n",
       "            color:  #000000;\n",
       "        }    #T_4f3dc620_b316_11e9_bc52_42010a800002row9_col4 {\n",
       "            background-color:  #5977e3;\n",
       "            color:  #000000;\n",
       "        }    #T_4f3dc620_b316_11e9_bc52_42010a800002row9_col5 {\n",
       "            background-color:  #b7cff9;\n",
       "            color:  #000000;\n",
       "        }    #T_4f3dc620_b316_11e9_bc52_42010a800002row9_col6 {\n",
       "            background-color:  #5e7de7;\n",
       "            color:  #000000;\n",
       "        }    #T_4f3dc620_b316_11e9_bc52_42010a800002row9_col7 {\n",
       "            background-color:  #6b8df0;\n",
       "            color:  #000000;\n",
       "        }    #T_4f3dc620_b316_11e9_bc52_42010a800002row9_col8 {\n",
       "            background-color:  #6282ea;\n",
       "            color:  #000000;\n",
       "        }    #T_4f3dc620_b316_11e9_bc52_42010a800002row9_col9 {\n",
       "            background-color:  #b40426;\n",
       "            color:  #f1f1f1;\n",
       "        }    #T_4f3dc620_b316_11e9_bc52_42010a800002row9_col10 {\n",
       "            background-color:  #5875e1;\n",
       "            color:  #000000;\n",
       "        }    #T_4f3dc620_b316_11e9_bc52_42010a800002row10_col0 {\n",
       "            background-color:  #4257c9;\n",
       "            color:  #f1f1f1;\n",
       "        }    #T_4f3dc620_b316_11e9_bc52_42010a800002row10_col1 {\n",
       "            background-color:  #4358cb;\n",
       "            color:  #f1f1f1;\n",
       "        }    #T_4f3dc620_b316_11e9_bc52_42010a800002row10_col2 {\n",
       "            background-color:  #5d7ce6;\n",
       "            color:  #000000;\n",
       "        }    #T_4f3dc620_b316_11e9_bc52_42010a800002row10_col3 {\n",
       "            background-color:  #3e51c5;\n",
       "            color:  #f1f1f1;\n",
       "        }    #T_4f3dc620_b316_11e9_bc52_42010a800002row10_col4 {\n",
       "            background-color:  #be242e;\n",
       "            color:  #f1f1f1;\n",
       "        }    #T_4f3dc620_b316_11e9_bc52_42010a800002row10_col5 {\n",
       "            background-color:  #4c66d6;\n",
       "            color:  #000000;\n",
       "        }    #T_4f3dc620_b316_11e9_bc52_42010a800002row10_col6 {\n",
       "            background-color:  #4055c8;\n",
       "            color:  #f1f1f1;\n",
       "        }    #T_4f3dc620_b316_11e9_bc52_42010a800002row10_col7 {\n",
       "            background-color:  #4257c9;\n",
       "            color:  #f1f1f1;\n",
       "        }    #T_4f3dc620_b316_11e9_bc52_42010a800002row10_col8 {\n",
       "            background-color:  #5b7ae5;\n",
       "            color:  #000000;\n",
       "        }    #T_4f3dc620_b316_11e9_bc52_42010a800002row10_col9 {\n",
       "            background-color:  #3e51c5;\n",
       "            color:  #f1f1f1;\n",
       "        }    #T_4f3dc620_b316_11e9_bc52_42010a800002row10_col10 {\n",
       "            background-color:  #b40426;\n",
       "            color:  #f1f1f1;\n",
       "        }</style><table id=\"T_4f3dc620_b316_11e9_bc52_42010a800002\" ><thead>    <tr>        <th class=\"blank level0\" ></th>        <th class=\"col_heading level0 col0\" >CHANNEL1_6M</th>        <th class=\"col_heading level0 col1\" >CHANNEL2_6M</th>        <th class=\"col_heading level0 col2\" >CHANNEL3_6M</th>        <th class=\"col_heading level0 col3\" >CHANNEL4_6M</th>        <th class=\"col_heading level0 col4\" >CHANNEL5_6M</th>        <th class=\"col_heading level0 col5\" >METHOD1_6M</th>        <th class=\"col_heading level0 col6\" >CHANNEL1_3M</th>        <th class=\"col_heading level0 col7\" >CHANNEL2_3M</th>        <th class=\"col_heading level0 col8\" >CHANNEL3_3M</th>        <th class=\"col_heading level0 col9\" >CHANNEL4_3M</th>        <th class=\"col_heading level0 col10\" >CHANNEL5_3M</th>    </tr></thead><tbody>\n",
       "                <tr>\n",
       "                        <th id=\"T_4f3dc620_b316_11e9_bc52_42010a800002level0_row0\" class=\"row_heading level0 row0\" >CHANNEL1_6M</th>\n",
       "                        <td id=\"T_4f3dc620_b316_11e9_bc52_42010a800002row0_col0\" class=\"data row0 col0\" >1</td>\n",
       "                        <td id=\"T_4f3dc620_b316_11e9_bc52_42010a800002row0_col1\" class=\"data row0 col1\" >-0.087</td>\n",
       "                        <td id=\"T_4f3dc620_b316_11e9_bc52_42010a800002row0_col2\" class=\"data row0 col2\" >-0.098</td>\n",
       "                        <td id=\"T_4f3dc620_b316_11e9_bc52_42010a800002row0_col3\" class=\"data row0 col3\" >0.042</td>\n",
       "                        <td id=\"T_4f3dc620_b316_11e9_bc52_42010a800002row0_col4\" class=\"data row0 col4\" >-0.075</td>\n",
       "                        <td id=\"T_4f3dc620_b316_11e9_bc52_42010a800002row0_col5\" class=\"data row0 col5\" >0.36</td>\n",
       "                        <td id=\"T_4f3dc620_b316_11e9_bc52_42010a800002row0_col6\" class=\"data row0 col6\" >0.9</td>\n",
       "                        <td id=\"T_4f3dc620_b316_11e9_bc52_42010a800002row0_col7\" class=\"data row0 col7\" >-0.074</td>\n",
       "                        <td id=\"T_4f3dc620_b316_11e9_bc52_42010a800002row0_col8\" class=\"data row0 col8\" >-0.09</td>\n",
       "                        <td id=\"T_4f3dc620_b316_11e9_bc52_42010a800002row0_col9\" class=\"data row0 col9\" >0.061</td>\n",
       "                        <td id=\"T_4f3dc620_b316_11e9_bc52_42010a800002row0_col10\" class=\"data row0 col10\" >-0.069</td>\n",
       "            </tr>\n",
       "            <tr>\n",
       "                        <th id=\"T_4f3dc620_b316_11e9_bc52_42010a800002level0_row1\" class=\"row_heading level0 row1\" >CHANNEL2_6M</th>\n",
       "                        <td id=\"T_4f3dc620_b316_11e9_bc52_42010a800002row1_col0\" class=\"data row1 col0\" >-0.087</td>\n",
       "                        <td id=\"T_4f3dc620_b316_11e9_bc52_42010a800002row1_col1\" class=\"data row1 col1\" >1</td>\n",
       "                        <td id=\"T_4f3dc620_b316_11e9_bc52_42010a800002row1_col2\" class=\"data row1 col2\" >-0.19</td>\n",
       "                        <td id=\"T_4f3dc620_b316_11e9_bc52_42010a800002row1_col3\" class=\"data row1 col3\" >0.043</td>\n",
       "                        <td id=\"T_4f3dc620_b316_11e9_bc52_42010a800002row1_col4\" class=\"data row1 col4\" >-0.16</td>\n",
       "                        <td id=\"T_4f3dc620_b316_11e9_bc52_42010a800002row1_col5\" class=\"data row1 col5\" >0.15</td>\n",
       "                        <td id=\"T_4f3dc620_b316_11e9_bc52_42010a800002row1_col6\" class=\"data row1 col6\" >-0.079</td>\n",
       "                        <td id=\"T_4f3dc620_b316_11e9_bc52_42010a800002row1_col7\" class=\"data row1 col7\" >0.95</td>\n",
       "                        <td id=\"T_4f3dc620_b316_11e9_bc52_42010a800002row1_col8\" class=\"data row1 col8\" >-0.18</td>\n",
       "                        <td id=\"T_4f3dc620_b316_11e9_bc52_42010a800002row1_col9\" class=\"data row1 col9\" >0.029</td>\n",
       "                        <td id=\"T_4f3dc620_b316_11e9_bc52_42010a800002row1_col10\" class=\"data row1 col10\" >-0.15</td>\n",
       "            </tr>\n",
       "            <tr>\n",
       "                        <th id=\"T_4f3dc620_b316_11e9_bc52_42010a800002level0_row2\" class=\"row_heading level0 row2\" >CHANNEL3_6M</th>\n",
       "                        <td id=\"T_4f3dc620_b316_11e9_bc52_42010a800002row2_col0\" class=\"data row2 col0\" >-0.098</td>\n",
       "                        <td id=\"T_4f3dc620_b316_11e9_bc52_42010a800002row2_col1\" class=\"data row2 col1\" >-0.19</td>\n",
       "                        <td id=\"T_4f3dc620_b316_11e9_bc52_42010a800002row2_col2\" class=\"data row2 col2\" >1</td>\n",
       "                        <td id=\"T_4f3dc620_b316_11e9_bc52_42010a800002row2_col3\" class=\"data row2 col3\" >-0.12</td>\n",
       "                        <td id=\"T_4f3dc620_b316_11e9_bc52_42010a800002row2_col4\" class=\"data row2 col4\" >-0.15</td>\n",
       "                        <td id=\"T_4f3dc620_b316_11e9_bc52_42010a800002row2_col5\" class=\"data row2 col5\" >-0.29</td>\n",
       "                        <td id=\"T_4f3dc620_b316_11e9_bc52_42010a800002row2_col6\" class=\"data row2 col6\" >-0.087</td>\n",
       "                        <td id=\"T_4f3dc620_b316_11e9_bc52_42010a800002row2_col7\" class=\"data row2 col7\" >-0.18</td>\n",
       "                        <td id=\"T_4f3dc620_b316_11e9_bc52_42010a800002row2_col8\" class=\"data row2 col8\" >0.96</td>\n",
       "                        <td id=\"T_4f3dc620_b316_11e9_bc52_42010a800002row2_col9\" class=\"data row2 col9\" >-0.11</td>\n",
       "                        <td id=\"T_4f3dc620_b316_11e9_bc52_42010a800002row2_col10\" class=\"data row2 col10\" >-0.14</td>\n",
       "            </tr>\n",
       "            <tr>\n",
       "                        <th id=\"T_4f3dc620_b316_11e9_bc52_42010a800002level0_row3\" class=\"row_heading level0 row3\" >CHANNEL4_6M</th>\n",
       "                        <td id=\"T_4f3dc620_b316_11e9_bc52_42010a800002row3_col0\" class=\"data row3 col0\" >0.042</td>\n",
       "                        <td id=\"T_4f3dc620_b316_11e9_bc52_42010a800002row3_col1\" class=\"data row3 col1\" >0.043</td>\n",
       "                        <td id=\"T_4f3dc620_b316_11e9_bc52_42010a800002row3_col2\" class=\"data row3 col2\" >-0.12</td>\n",
       "                        <td id=\"T_4f3dc620_b316_11e9_bc52_42010a800002row3_col3\" class=\"data row3 col3\" >1</td>\n",
       "                        <td id=\"T_4f3dc620_b316_11e9_bc52_42010a800002row3_col4\" class=\"data row3 col4\" >-0.11</td>\n",
       "                        <td id=\"T_4f3dc620_b316_11e9_bc52_42010a800002row3_col5\" class=\"data row3 col5\" >0.22</td>\n",
       "                        <td id=\"T_4f3dc620_b316_11e9_bc52_42010a800002row3_col6\" class=\"data row3 col6\" >0.028</td>\n",
       "                        <td id=\"T_4f3dc620_b316_11e9_bc52_42010a800002row3_col7\" class=\"data row3 col7\" >0.052</td>\n",
       "                        <td id=\"T_4f3dc620_b316_11e9_bc52_42010a800002row3_col8\" class=\"data row3 col8\" >-0.12</td>\n",
       "                        <td id=\"T_4f3dc620_b316_11e9_bc52_42010a800002row3_col9\" class=\"data row3 col9\" >0.88</td>\n",
       "                        <td id=\"T_4f3dc620_b316_11e9_bc52_42010a800002row3_col10\" class=\"data row3 col10\" >-0.11</td>\n",
       "            </tr>\n",
       "            <tr>\n",
       "                        <th id=\"T_4f3dc620_b316_11e9_bc52_42010a800002level0_row4\" class=\"row_heading level0 row4\" >CHANNEL5_6M</th>\n",
       "                        <td id=\"T_4f3dc620_b316_11e9_bc52_42010a800002row4_col0\" class=\"data row4 col0\" >-0.075</td>\n",
       "                        <td id=\"T_4f3dc620_b316_11e9_bc52_42010a800002row4_col1\" class=\"data row4 col1\" >-0.16</td>\n",
       "                        <td id=\"T_4f3dc620_b316_11e9_bc52_42010a800002row4_col2\" class=\"data row4 col2\" >-0.15</td>\n",
       "                        <td id=\"T_4f3dc620_b316_11e9_bc52_42010a800002row4_col3\" class=\"data row4 col3\" >-0.11</td>\n",
       "                        <td id=\"T_4f3dc620_b316_11e9_bc52_42010a800002row4_col4\" class=\"data row4 col4\" >1</td>\n",
       "                        <td id=\"T_4f3dc620_b316_11e9_bc52_42010a800002row4_col5\" class=\"data row4 col5\" >-0.22</td>\n",
       "                        <td id=\"T_4f3dc620_b316_11e9_bc52_42010a800002row4_col6\" class=\"data row4 col6\" >-0.066</td>\n",
       "                        <td id=\"T_4f3dc620_b316_11e9_bc52_42010a800002row4_col7\" class=\"data row4 col7\" >-0.15</td>\n",
       "                        <td id=\"T_4f3dc620_b316_11e9_bc52_42010a800002row4_col8\" class=\"data row4 col8\" >-0.14</td>\n",
       "                        <td id=\"T_4f3dc620_b316_11e9_bc52_42010a800002row4_col9\" class=\"data row4 col9\" >-0.098</td>\n",
       "                        <td id=\"T_4f3dc620_b316_11e9_bc52_42010a800002row4_col10\" class=\"data row4 col10\" >0.97</td>\n",
       "            </tr>\n",
       "            <tr>\n",
       "                        <th id=\"T_4f3dc620_b316_11e9_bc52_42010a800002level0_row5\" class=\"row_heading level0 row5\" >METHOD1_6M</th>\n",
       "                        <td id=\"T_4f3dc620_b316_11e9_bc52_42010a800002row5_col0\" class=\"data row5 col0\" >0.36</td>\n",
       "                        <td id=\"T_4f3dc620_b316_11e9_bc52_42010a800002row5_col1\" class=\"data row5 col1\" >0.15</td>\n",
       "                        <td id=\"T_4f3dc620_b316_11e9_bc52_42010a800002row5_col2\" class=\"data row5 col2\" >-0.29</td>\n",
       "                        <td id=\"T_4f3dc620_b316_11e9_bc52_42010a800002row5_col3\" class=\"data row5 col3\" >0.22</td>\n",
       "                        <td id=\"T_4f3dc620_b316_11e9_bc52_42010a800002row5_col4\" class=\"data row5 col4\" >-0.22</td>\n",
       "                        <td id=\"T_4f3dc620_b316_11e9_bc52_42010a800002row5_col5\" class=\"data row5 col5\" >1</td>\n",
       "                        <td id=\"T_4f3dc620_b316_11e9_bc52_42010a800002row5_col6\" class=\"data row5 col6\" >0.3</td>\n",
       "                        <td id=\"T_4f3dc620_b316_11e9_bc52_42010a800002row5_col7\" class=\"data row5 col7\" >0.15</td>\n",
       "                        <td id=\"T_4f3dc620_b316_11e9_bc52_42010a800002row5_col8\" class=\"data row5 col8\" >-0.27</td>\n",
       "                        <td id=\"T_4f3dc620_b316_11e9_bc52_42010a800002row5_col9\" class=\"data row5 col9\" >0.19</td>\n",
       "                        <td id=\"T_4f3dc620_b316_11e9_bc52_42010a800002row5_col10\" class=\"data row5 col10\" >-0.21</td>\n",
       "            </tr>\n",
       "            <tr>\n",
       "                        <th id=\"T_4f3dc620_b316_11e9_bc52_42010a800002level0_row6\" class=\"row_heading level0 row6\" >CHANNEL1_3M</th>\n",
       "                        <td id=\"T_4f3dc620_b316_11e9_bc52_42010a800002row6_col0\" class=\"data row6 col0\" >0.9</td>\n",
       "                        <td id=\"T_4f3dc620_b316_11e9_bc52_42010a800002row6_col1\" class=\"data row6 col1\" >-0.079</td>\n",
       "                        <td id=\"T_4f3dc620_b316_11e9_bc52_42010a800002row6_col2\" class=\"data row6 col2\" >-0.087</td>\n",
       "                        <td id=\"T_4f3dc620_b316_11e9_bc52_42010a800002row6_col3\" class=\"data row6 col3\" >0.028</td>\n",
       "                        <td id=\"T_4f3dc620_b316_11e9_bc52_42010a800002row6_col4\" class=\"data row6 col4\" >-0.066</td>\n",
       "                        <td id=\"T_4f3dc620_b316_11e9_bc52_42010a800002row6_col5\" class=\"data row6 col5\" >0.3</td>\n",
       "                        <td id=\"T_4f3dc620_b316_11e9_bc52_42010a800002row6_col6\" class=\"data row6 col6\" >1</td>\n",
       "                        <td id=\"T_4f3dc620_b316_11e9_bc52_42010a800002row6_col7\" class=\"data row6 col7\" >-0.07</td>\n",
       "                        <td id=\"T_4f3dc620_b316_11e9_bc52_42010a800002row6_col8\" class=\"data row6 col8\" >-0.081</td>\n",
       "                        <td id=\"T_4f3dc620_b316_11e9_bc52_42010a800002row6_col9\" class=\"data row6 col9\" >0.037</td>\n",
       "                        <td id=\"T_4f3dc620_b316_11e9_bc52_42010a800002row6_col10\" class=\"data row6 col10\" >-0.062</td>\n",
       "            </tr>\n",
       "            <tr>\n",
       "                        <th id=\"T_4f3dc620_b316_11e9_bc52_42010a800002level0_row7\" class=\"row_heading level0 row7\" >CHANNEL2_3M</th>\n",
       "                        <td id=\"T_4f3dc620_b316_11e9_bc52_42010a800002row7_col0\" class=\"data row7 col0\" >-0.074</td>\n",
       "                        <td id=\"T_4f3dc620_b316_11e9_bc52_42010a800002row7_col1\" class=\"data row7 col1\" >0.95</td>\n",
       "                        <td id=\"T_4f3dc620_b316_11e9_bc52_42010a800002row7_col2\" class=\"data row7 col2\" >-0.18</td>\n",
       "                        <td id=\"T_4f3dc620_b316_11e9_bc52_42010a800002row7_col3\" class=\"data row7 col3\" >0.052</td>\n",
       "                        <td id=\"T_4f3dc620_b316_11e9_bc52_42010a800002row7_col4\" class=\"data row7 col4\" >-0.15</td>\n",
       "                        <td id=\"T_4f3dc620_b316_11e9_bc52_42010a800002row7_col5\" class=\"data row7 col5\" >0.15</td>\n",
       "                        <td id=\"T_4f3dc620_b316_11e9_bc52_42010a800002row7_col6\" class=\"data row7 col6\" >-0.07</td>\n",
       "                        <td id=\"T_4f3dc620_b316_11e9_bc52_42010a800002row7_col7\" class=\"data row7 col7\" >1</td>\n",
       "                        <td id=\"T_4f3dc620_b316_11e9_bc52_42010a800002row7_col8\" class=\"data row7 col8\" >-0.18</td>\n",
       "                        <td id=\"T_4f3dc620_b316_11e9_bc52_42010a800002row7_col9\" class=\"data row7 col9\" >0.0059</td>\n",
       "                        <td id=\"T_4f3dc620_b316_11e9_bc52_42010a800002row7_col10\" class=\"data row7 col10\" >-0.15</td>\n",
       "            </tr>\n",
       "            <tr>\n",
       "                        <th id=\"T_4f3dc620_b316_11e9_bc52_42010a800002level0_row8\" class=\"row_heading level0 row8\" >CHANNEL3_3M</th>\n",
       "                        <td id=\"T_4f3dc620_b316_11e9_bc52_42010a800002row8_col0\" class=\"data row8 col0\" >-0.09</td>\n",
       "                        <td id=\"T_4f3dc620_b316_11e9_bc52_42010a800002row8_col1\" class=\"data row8 col1\" >-0.18</td>\n",
       "                        <td id=\"T_4f3dc620_b316_11e9_bc52_42010a800002row8_col2\" class=\"data row8 col2\" >0.96</td>\n",
       "                        <td id=\"T_4f3dc620_b316_11e9_bc52_42010a800002row8_col3\" class=\"data row8 col3\" >-0.12</td>\n",
       "                        <td id=\"T_4f3dc620_b316_11e9_bc52_42010a800002row8_col4\" class=\"data row8 col4\" >-0.14</td>\n",
       "                        <td id=\"T_4f3dc620_b316_11e9_bc52_42010a800002row8_col5\" class=\"data row8 col5\" >-0.27</td>\n",
       "                        <td id=\"T_4f3dc620_b316_11e9_bc52_42010a800002row8_col6\" class=\"data row8 col6\" >-0.081</td>\n",
       "                        <td id=\"T_4f3dc620_b316_11e9_bc52_42010a800002row8_col7\" class=\"data row8 col7\" >-0.18</td>\n",
       "                        <td id=\"T_4f3dc620_b316_11e9_bc52_42010a800002row8_col8\" class=\"data row8 col8\" >1</td>\n",
       "                        <td id=\"T_4f3dc620_b316_11e9_bc52_42010a800002row8_col9\" class=\"data row8 col9\" >-0.11</td>\n",
       "                        <td id=\"T_4f3dc620_b316_11e9_bc52_42010a800002row8_col10\" class=\"data row8 col10\" >-0.14</td>\n",
       "            </tr>\n",
       "            <tr>\n",
       "                        <th id=\"T_4f3dc620_b316_11e9_bc52_42010a800002level0_row9\" class=\"row_heading level0 row9\" >CHANNEL4_3M</th>\n",
       "                        <td id=\"T_4f3dc620_b316_11e9_bc52_42010a800002row9_col0\" class=\"data row9 col0\" >0.061</td>\n",
       "                        <td id=\"T_4f3dc620_b316_11e9_bc52_42010a800002row9_col1\" class=\"data row9 col1\" >0.029</td>\n",
       "                        <td id=\"T_4f3dc620_b316_11e9_bc52_42010a800002row9_col2\" class=\"data row9 col2\" >-0.11</td>\n",
       "                        <td id=\"T_4f3dc620_b316_11e9_bc52_42010a800002row9_col3\" class=\"data row9 col3\" >0.88</td>\n",
       "                        <td id=\"T_4f3dc620_b316_11e9_bc52_42010a800002row9_col4\" class=\"data row9 col4\" >-0.098</td>\n",
       "                        <td id=\"T_4f3dc620_b316_11e9_bc52_42010a800002row9_col5\" class=\"data row9 col5\" >0.19</td>\n",
       "                        <td id=\"T_4f3dc620_b316_11e9_bc52_42010a800002row9_col6\" class=\"data row9 col6\" >0.037</td>\n",
       "                        <td id=\"T_4f3dc620_b316_11e9_bc52_42010a800002row9_col7\" class=\"data row9 col7\" >0.0059</td>\n",
       "                        <td id=\"T_4f3dc620_b316_11e9_bc52_42010a800002row9_col8\" class=\"data row9 col8\" >-0.11</td>\n",
       "                        <td id=\"T_4f3dc620_b316_11e9_bc52_42010a800002row9_col9\" class=\"data row9 col9\" >1</td>\n",
       "                        <td id=\"T_4f3dc620_b316_11e9_bc52_42010a800002row9_col10\" class=\"data row9 col10\" >-0.097</td>\n",
       "            </tr>\n",
       "            <tr>\n",
       "                        <th id=\"T_4f3dc620_b316_11e9_bc52_42010a800002level0_row10\" class=\"row_heading level0 row10\" >CHANNEL5_3M</th>\n",
       "                        <td id=\"T_4f3dc620_b316_11e9_bc52_42010a800002row10_col0\" class=\"data row10 col0\" >-0.069</td>\n",
       "                        <td id=\"T_4f3dc620_b316_11e9_bc52_42010a800002row10_col1\" class=\"data row10 col1\" >-0.15</td>\n",
       "                        <td id=\"T_4f3dc620_b316_11e9_bc52_42010a800002row10_col2\" class=\"data row10 col2\" >-0.14</td>\n",
       "                        <td id=\"T_4f3dc620_b316_11e9_bc52_42010a800002row10_col3\" class=\"data row10 col3\" >-0.11</td>\n",
       "                        <td id=\"T_4f3dc620_b316_11e9_bc52_42010a800002row10_col4\" class=\"data row10 col4\" >0.97</td>\n",
       "                        <td id=\"T_4f3dc620_b316_11e9_bc52_42010a800002row10_col5\" class=\"data row10 col5\" >-0.21</td>\n",
       "                        <td id=\"T_4f3dc620_b316_11e9_bc52_42010a800002row10_col6\" class=\"data row10 col6\" >-0.062</td>\n",
       "                        <td id=\"T_4f3dc620_b316_11e9_bc52_42010a800002row10_col7\" class=\"data row10 col7\" >-0.15</td>\n",
       "                        <td id=\"T_4f3dc620_b316_11e9_bc52_42010a800002row10_col8\" class=\"data row10 col8\" >-0.14</td>\n",
       "                        <td id=\"T_4f3dc620_b316_11e9_bc52_42010a800002row10_col9\" class=\"data row10 col9\" >-0.097</td>\n",
       "                        <td id=\"T_4f3dc620_b316_11e9_bc52_42010a800002row10_col10\" class=\"data row10 col10\" >1</td>\n",
       "            </tr>\n",
       "    </tbody></table>"
      ],
      "text/plain": [
       "<pandas.io.formats.style.Styler at 0x7f2041c62c50>"
      ]
     },
     "execution_count": 100,
     "metadata": {},
     "output_type": "execute_result"
    }
   ],
   "source": [
    "corr =data.iloc[:,[2,3,4,5,6,7,10,11,12,13,14]].corr()\n",
    "corr.style.background_gradient(cmap='coolwarm').set_precision(2)"
   ]
  },
  {
   "cell_type": "markdown",
   "metadata": {
    "colab_type": "text",
    "id": "Uy3QddP1uIK0"
   },
   "source": [
    "## Drop one of the correlated variables"
   ]
  },
  {
   "cell_type": "code",
   "execution_count": 101,
   "metadata": {
    "colab": {
     "base_uri": "https://localhost:8080/",
     "height": 34
    },
    "colab_type": "code",
    "executionInfo": {
     "elapsed": 112,
     "status": "ok",
     "timestamp": 1564447741939,
     "user": {
      "displayName": "Tejveer Singh",
      "photoUrl": "",
      "userId": "15997953647571826254"
     },
     "user_tz": 300
    },
    "id": "n26FPbLruIK4",
    "outputId": "c1c03d83-9aa0-461a-ebac-aa30ca008bdb"
   },
   "outputs": [
    {
     "name": "stdout",
     "output_type": "stream",
     "text": [
      "[0]\n"
     ]
    }
   ],
   "source": [
    "print (data.EVENT1_30_FLAG.unique())\n",
    "data1.drop(['CHANNEL1_6M','CHANNEL2_6M','CHANNEL3_6M','CHANNEL4_6M','CHANNEL5_6M',\n",
    "           'METHOD1_6M','PAYMENTS_6M','EVENT1_30_FLAG'], axis=1, inplace=True)\n",
    "\n",
    "data.drop(['EVENT1_30_FLAG'], axis=1, inplace=True)\n",
    "\n",
    "\n",
    "data[['RECENT_PAYMENT','NOT_DI_3M','NOT_DI_6M','POLICYPURCHASECHANNEL','Call_Flag']] = data[\n",
    "    ['RECENT_PAYMENT','NOT_DI_3M','NOT_DI_6M','POLICYPURCHASECHANNEL','Call_Flag']].astype('bool')\n",
    "\n",
    "\n",
    "data1[['RECENT_PAYMENT','NOT_DI_3M','NOT_DI_6M','POLICYPURCHASECHANNEL','Call_Flag']] = data1[\n",
    "    ['RECENT_PAYMENT','NOT_DI_3M','NOT_DI_6M','POLICYPURCHASECHANNEL','Call_Flag']].astype('bool')"
   ]
  },
  {
   "cell_type": "code",
   "execution_count": null,
   "metadata": {
    "colab": {},
    "colab_type": "code",
    "id": "1SAOyK57uISl"
   },
   "outputs": [],
   "source": []
  },
  {
   "cell_type": "markdown",
   "metadata": {
    "colab": {},
    "colab_type": "code",
    "id": "lgSmXf9huIS-"
   },
   "source": [
    "# Machine Learning Model"
   ]
  },
  {
   "cell_type": "code",
   "execution_count": 103,
   "metadata": {
    "colab": {},
    "colab_type": "code",
    "id": "OFzOZgvFuITX"
   },
   "outputs": [],
   "source": [
    "from sklearn.model_selection import StratifiedShuffleSplit\n",
    "from sklearn.model_selection import train_test_split\n",
    "from sklearn.utils import resample\n",
    "from sklearn.utils import shuffle\n",
    "from sklearn.svm import SVC\n",
    "from sklearn.ensemble import RandomForestClassifier, GradientBoostingClassifier, BaggingClassifier\n",
    "from sklearn.linear_model import LogisticRegression, LogisticRegressionCV, RidgeClassifierCV, LassoCV\n",
    "from sklearn.metrics import roc_auc_score, make_scorer, confusion_matrix, classification_report, f1_score,auc,roc_curve,precision_recall_curve\n",
    "from sklearn.model_selection import GridSearchCV\n",
    "from sklearn import preprocessing\n",
    "from sklearn.feature_selection import SelectFromModel\n",
    "from sklearn.neighbors import KNeighborsClassifier\n",
    "from sklearn.svm import SVC\n",
    "from matplotlib.pylab import rcParams\n",
    "\n",
    "from imblearn.under_sampling import (ClusterCentroids, RandomUnderSampler,\n",
    "                                     NearMiss,\n",
    "                                     InstanceHardnessThreshold,\n",
    "                                     CondensedNearestNeighbour,\n",
    "                                     EditedNearestNeighbours,\n",
    "                                     RepeatedEditedNearestNeighbours,\n",
    "                                     AllKNN,\n",
    "                                     NeighbourhoodCleaningRule,\n",
    "                                     OneSidedSelection,TomekLinks)\n",
    "\n",
    "\n"
   ]
  },
  {
   "cell_type": "markdown",
   "metadata": {
    "colab": {},
    "colab_type": "code",
    "id": "rIL4Vpz8W1xR"
   },
   "source": [
    "# Undersampling "
   ]
  },
  {
   "cell_type": "code",
   "execution_count": 105,
   "metadata": {
    "colab": {},
    "colab_type": "code",
    "id": "WbLp2ppPuIUA"
   },
   "outputs": [],
   "source": [
    "X=data.drop(\"Call_Flag\", axis=1)\n",
    "y=data[\"Call_Flag\"]\n",
    "\n",
    "\n",
    "X_train, X_test, y_train, y_test = train_test_split(X, y,test_size=0.25,random_state=0,stratify=y)\n",
    "\n",
    "\n",
    "train=pd.concat([X_train,y_train],axis=1)\n",
    "train['Call_Flag'].value_counts()\n",
    "df_majority = train[train.Call_Flag==0]\n",
    "df_minority = train[train.Call_Flag==1]\n",
    " \n",
    "# Upsample minority class\n",
    "df_majority_downsampled = resample(df_majority, \n",
    "                                 replace=False,     # sample without replacement\n",
    "                                 n_samples=df_minority.shape[0],    # to match minority class\n",
    "                                 random_state=10) # reproducible results\n",
    " \n",
    "# Combine majority class with upsampled minority class\n",
    "df_upsampled = pd.concat([df_minority, df_majority_downsampled])\n",
    "df_upsampled=shuffle(df_upsampled)\n",
    "X_train=df_upsampled.drop('Call_Flag',axis=1)\n",
    "y_train=df_upsampled['Call_Flag']\n",
    "\n",
    "\n",
    "score = make_scorer(roc_auc_score)\n",
    "\n",
    "##Calculate Area under ROC Curve    \n",
    "def auc_roc(clf, features, target):\n",
    "    probs = clf.predict_proba(features)\n",
    "    probs = probs[:, 1]\n",
    "    auc_score = roc_auc_score(target,probs)\n",
    "    return auc_score\n",
    "\n"
   ]
  },
  {
   "cell_type": "code",
   "execution_count": null,
   "metadata": {},
   "outputs": [],
   "source": []
  },
  {
   "cell_type": "markdown",
   "metadata": {
    "colab": {},
    "colab_type": "code",
    "id": "BvbYzG7vuIUs"
   },
   "source": [
    "# RANDOM FOREST (Hyper Parameter Tuning :Grid Search)\n",
    "# CrossValidation"
   ]
  },
  {
   "cell_type": "code",
   "execution_count": 108,
   "metadata": {
    "colab": {
     "base_uri": "https://localhost:8080/",
     "height": 173
    },
    "colab_type": "code",
    "executionInfo": {
     "elapsed": 319243,
     "status": "ok",
     "timestamp": 1564448271350,
     "user": {
      "displayName": "Tejveer Singh",
      "photoUrl": "",
      "userId": "15997953647571826254"
     },
     "user_tz": 300
    },
    "id": "SJyTNlNGuIVO",
    "outputId": "616c3ca5-8664-4f33-af86-5e3b1bdbb36f"
   },
   "outputs": [
    {
     "name": "stdout",
     "output_type": "stream",
     "text": [
      "Fitting 4 folds for each of 270 candidates, totalling 1080 fits\n"
     ]
    },
    {
     "name": "stderr",
     "output_type": "stream",
     "text": [
      "[Parallel(n_jobs=-1)]: Using backend LokyBackend with 16 concurrent workers.\n",
      "[Parallel(n_jobs=-1)]: Done  18 tasks      | elapsed:    2.6s\n",
      "[Parallel(n_jobs=-1)]: Done 168 tasks      | elapsed:    7.6s\n",
      "[Parallel(n_jobs=-1)]: Done 418 tasks      | elapsed:   18.0s\n",
      "[Parallel(n_jobs=-1)]: Done 768 tasks      | elapsed:   32.9s\n",
      "[Parallel(n_jobs=-1)]: Done 1080 out of 1080 | elapsed:   50.0s finished\n"
     ]
    },
    {
     "name": "stdout",
     "output_type": "stream",
     "text": [
      "{'max_features': 'auto', 'class_weight': 'balanced', 'criterion': 'gini', 'verbose': 0, 'min_samples_split': 2, 'min_impurity_split': None, 'random_state': 10, 'oob_score': False, 'warm_start': False, 'n_jobs': None, 'max_depth': 32, 'bootstrap': True, 'min_weight_fraction_leaf': 0.0, 'min_samples_leaf': 3, 'min_impurity_decrease': 0.0, 'max_leaf_nodes': None, 'n_estimators': 50}\n"
     ]
    }
   ],
   "source": [
    "parameters = {'n_estimators':(30,50,100),'max_depth':(8,16,32,64,100),'criterion':('gini','entropy'),'min_samples_split':(2,3,4),'min_samples_leaf':(1,2,3)}\n",
    "\n",
    "R_forest = RandomForestClassifier(class_weight='balanced',random_state=10)\n",
    "grid = GridSearchCV(R_forest,param_grid=parameters, scoring=score, verbose=1, n_jobs=-1, cv=4)\n",
    "grid = grid.fit(X_train, y_train)\n",
    "R_forest = grid.best_estimator_\n",
    "print (R_forest.get_params())  \n",
    "\n",
    "\n"
   ]
  },
  {
   "cell_type": "markdown",
   "metadata": {},
   "source": [
    "# AUC (Area under Curve) for ROC "
   ]
  },
  {
   "cell_type": "code",
   "execution_count": 109,
   "metadata": {
    "colab": {
     "base_uri": "https://localhost:8080/",
     "height": 85
    },
    "colab_type": "code",
    "executionInfo": {
     "elapsed": 1343,
     "status": "ok",
     "timestamp": 1564448459039,
     "user": {
      "displayName": "Tejveer Singh",
      "photoUrl": "",
      "userId": "15997953647571826254"
     },
     "user_tz": 300
    },
    "id": "lZRifEN3uIVe",
    "outputId": "1bcaa142-e338-4ee2-9a24-e5bcf2316360"
   },
   "outputs": [
    {
     "name": "stdout",
     "output_type": "stream",
     "text": [
      "Tuned model has a training AUC score under ROC curve 0.96.\n",
      "Tuned model has a testing AUC score under ROC curve 0.86.\n"
     ]
    }
   ],
   "source": [
    "print (\"Tuned model has a training AUC score under ROC curve {:.2f}.\".format(auc_roc(R_forest, X_train, y_train)))\n",
    "print (\"Tuned model has a testing AUC score under ROC curve {:.2f}.\".format(auc_roc(R_forest, X_test, y_test)))"
   ]
  },
  {
   "cell_type": "markdown",
   "metadata": {},
   "source": [
    "# Precision/Recall-This metric is essential for Unbalanced dataset"
   ]
  },
  {
   "cell_type": "code",
   "execution_count": 110,
   "metadata": {
    "colab": {
     "base_uri": "https://localhost:8080/",
     "height": 170
    },
    "colab_type": "code",
    "executionInfo": {
     "elapsed": 693,
     "status": "ok",
     "timestamp": 1564448465815,
     "user": {
      "displayName": "Tejveer Singh",
      "photoUrl": "",
      "userId": "15997953647571826254"
     },
     "user_tz": 300
    },
    "id": "2Ah_4dxGuIWc",
    "outputId": "d4de3664-d6ad-4b72-e140-355bcea97db0"
   },
   "outputs": [
    {
     "name": "stdout",
     "output_type": "stream",
     "text": [
      "              precision    recall  f1-score   support\n",
      "\n",
      "       False       0.99      0.75      0.85     31078\n",
      "        True       0.11      0.81      0.19      1172\n",
      "\n",
      "    accuracy                           0.75     32250\n",
      "   macro avg       0.55      0.78      0.52     32250\n",
      "weighted avg       0.96      0.75      0.83     32250\n",
      "\n"
     ]
    }
   ],
   "source": [
    "print (classification_report(y_test, R_forest.predict(X_test)))\n"
   ]
  },
  {
   "cell_type": "markdown",
   "metadata": {},
   "source": [
    "## Confusion Matrix"
   ]
  },
  {
   "cell_type": "code",
   "execution_count": 111,
   "metadata": {
    "colab": {},
    "colab_type": "code",
    "id": "BVFkQBYWuIWi"
   },
   "outputs": [
    {
     "name": "stdout",
     "output_type": "stream",
     "text": [
      "[[23368  7710]\n",
      " [  222   950]]\n"
     ]
    }
   ],
   "source": [
    "print (confusion_matrix(y_test, R_forest.predict(X_test)))\n"
   ]
  },
  {
   "cell_type": "markdown",
   "metadata": {
    "colab": {},
    "colab_type": "code",
    "id": "6zpyi_g2Mli6"
   },
   "source": [
    "## ROC Curve (AUC=0.86) -Higher the value for AUC better is the model"
   ]
  },
  {
   "cell_type": "code",
   "execution_count": 112,
   "metadata": {
    "colab": {
     "base_uri": "https://localhost:8080/",
     "height": 295
    },
    "colab_type": "code",
    "executionInfo": {
     "elapsed": 844,
     "status": "ok",
     "timestamp": 1564451103129,
     "user": {
      "displayName": "Tejveer Singh",
      "photoUrl": "",
      "userId": "15997953647571826254"
     },
     "user_tz": 300
    },
    "id": "DRHACVIEuIWy",
    "outputId": "834d178e-c477-4a29-d7bc-d605b8c8795f"
   },
   "outputs": [
    {
     "data": {
      "image/png": "[encoded data removed]",
      "text/plain": [
       "<Figure size 432x288 with 1 Axes>"
      ]
     },
     "metadata": {
      "needs_background": "light"
     },
     "output_type": "display_data"
    }
   ],
   "source": [
    "probs = R_forest.predict_proba(X_test)\n",
    "preds = probs[:,1]\n",
    "fpr, tpr, threshold = roc_curve(y_test, preds)\n",
    "roc_auc = auc(fpr, tpr)\n",
    "\n",
    "plt.title('Receiver Operating Characteristic')\n",
    "plt.plot(fpr, tpr, 'b', label = 'AUC = %0.2f' % roc_auc)\n",
    "plt.legend(loc = 'lower right')\n",
    "plt.plot([0, 1], [0, 1],'r--')\n",
    "plt.xlim([0, 1])\n",
    "plt.ylim([0, 1])\n",
    "plt.ylabel('True Positive Rate')\n",
    "plt.xlabel('False Positive Rate')\n",
    "plt.show()"
   ]
  },
  {
   "cell_type": "code",
   "execution_count": null,
   "metadata": {
    "colab": {},
    "colab_type": "code",
    "id": "-rD6FQJLuIXP"
   },
   "outputs": [],
   "source": []
  },
  {
   "cell_type": "markdown",
   "metadata": {},
   "source": [
    "# Feature Importance (The number of payment made thru channel 4,number of login,tenure of the policy holder are extremely important)"
   ]
  },
  {
   "cell_type": "code",
   "execution_count": 113,
   "metadata": {
    "colab": {
     "base_uri": "https://localhost:8080/",
     "height": 346
    },
    "colab_type": "code",
    "executionInfo": {
     "elapsed": 345,
     "status": "ok",
     "timestamp": 1564450879222,
     "user": {
      "displayName": "Tejveer Singh",
      "photoUrl": "",
      "userId": "15997953647571826254"
     },
     "user_tz": 300
    },
    "id": "s7oBbyS9uIXz",
    "outputId": "032b153a-c4af-427d-c167-88b77de10723"
   },
   "outputs": [
    {
     "data": {
      "image/png": "[encoded data removed]",
      "text/plain": [
       "<Figure size 432x288 with 1 Axes>"
      ]
     },
     "metadata": {
      "needs_background": "light"
     },
     "output_type": "display_data"
    }
   ],
   "source": [
    "importances = R_forest.feature_importances_\n",
    "\n",
    "# Sort feature importances in descending order\n",
    "indices = np.argsort(importances)[::-1][0:10]\n",
    "\n",
    "# Rearrange feature names so they match the sorted feature importances\n",
    "names = [X_train.columns[i] for i in indices][0:10]\n",
    "\n",
    "# Create plot\n",
    "plt.figure()\n",
    "\n",
    "# Create plot title\n",
    "plt.title(\"Feature Importance\")\n",
    "\n",
    "# Add bars\n",
    "plt.bar(range(10), importances[indices])\n",
    "\n",
    "# Add feature names as x-axis labels\n",
    "plt.xticks(range(10), names, rotation=90)\n",
    "\n",
    "# Show plot\n",
    "plt.show()"
   ]
  },
  {
   "cell_type": "code",
   "execution_count": null,
   "metadata": {},
   "outputs": [],
   "source": []
  },
  {
   "cell_type": "markdown",
   "metadata": {
    "colab": {},
    "colab_type": "code",
    "id": "6nFYmiDUuIYc"
   },
   "source": [
    "## Gradient Boosting"
   ]
  },
  {
   "cell_type": "code",
   "execution_count": 115,
   "metadata": {
    "colab": {
     "base_uri": "https://localhost:8080/",
     "height": 425
    },
    "colab_type": "code",
    "executionInfo": {
     "elapsed": 1153596,
     "status": "error",
     "timestamp": 1564447491036,
     "user": {
      "displayName": "Tejveer Singh",
      "photoUrl": "",
      "userId": "15997953647571826254"
     },
     "user_tz": 300
    },
    "id": "h0h9L8wyuIYr",
    "outputId": "99537957-6b9e-49f0-cd0d-5584aef0b33b"
   },
   "outputs": [
    {
     "name": "stdout",
     "output_type": "stream",
     "text": [
      "Fitting 4 folds for each of 120 candidates, totalling 480 fits\n"
     ]
    },
    {
     "name": "stderr",
     "output_type": "stream",
     "text": [
      "[Parallel(n_jobs=-1)]: Using backend LokyBackend with 16 concurrent workers.\n",
      "[Parallel(n_jobs=-1)]: Done  18 tasks      | elapsed:   46.9s\n",
      "[Parallel(n_jobs=-1)]: Done 168 tasks      | elapsed:  5.4min\n",
      "[Parallel(n_jobs=-1)]: Done 418 tasks      | elapsed:  9.6min\n",
      "[Parallel(n_jobs=-1)]: Done 480 out of 480 | elapsed: 10.0min finished\n"
     ]
    },
    {
     "name": "stdout",
     "output_type": "stream",
     "text": [
      "{'presort': 'auto', 'max_features': None, 'learning_rate': 0.01, 'criterion': 'friedman_mse', 'verbose': 0, 'min_samples_split': 2, 'min_impurity_split': None, 'n_iter_no_change': None, 'random_state': 10, 'loss': 'exponential', 'init': None, 'subsample': 1.0, 'validation_fraction': 0.1, 'max_depth': 8, 'warm_start': False, 'tol': 0.0001, 'min_weight_fraction_leaf': 0.0, 'min_samples_leaf': 1, 'min_impurity_decrease': 0.0, 'max_leaf_nodes': None, 'n_estimators': 200}\n"
     ]
    }
   ],
   "source": [
    "parameters = {'loss':('deviance','exponential'),\n",
    "              'learning_rate':(0.01,0.5,0.1,1.0),\n",
    "             'n_estimators':(100,150,200),'max_depth':(8,16,32,64,100)}\n",
    "\n",
    "Gradient_Boosting=GradientBoostingClassifier(random_state=10)\n",
    "grid_obj = GridSearchCV(Gradient_Boosting, param_grid=parameters, scoring=score, verbose=1, n_jobs=-1, cv=4)\n",
    "grid_obj = grid_obj.fit(X_train, y_train)\n",
    "Gradient_Boosting= grid_obj.best_estimator_\n",
    "print (Gradient_Boosting.get_params())\n",
    "\n",
    "\n"
   ]
  },
  {
   "cell_type": "code",
   "execution_count": 116,
   "metadata": {
    "colab": {
     "base_uri": "https://localhost:8080/",
     "height": 85
    },
    "colab_type": "code",
    "executionInfo": {
     "elapsed": 1166,
     "status": "ok",
     "timestamp": 1564423800628,
     "user": {
      "displayName": "Tejveer Singh",
      "photoUrl": "",
      "userId": "15997953647571826254"
     },
     "user_tz": 300
    },
    "id": "y7AgNrMruIY1",
    "outputId": "6d792df8-d20b-44e0-8be1-2ed5f49e5c96"
   },
   "outputs": [
    {
     "name": "stdout",
     "output_type": "stream",
     "text": [
      "Tuned model has a training AUC score under ROC curve 0.9467.\n",
      "Tuned model has a testing AUC score under ROC curve 0.8565.\n"
     ]
    }
   ],
   "source": [
    "\n",
    "print (\"Tuned model has a training AUC score under ROC curve {:.4f}.\".format(auc_roc(Gradient_Boosting, X_train, y_train)))\n",
    "print (\"Tuned model has a testing AUC score under ROC curve {:.4f}.\".format(auc_roc(Gradient_Boosting, X_test, y_test)))"
   ]
  },
  {
   "cell_type": "markdown",
   "metadata": {},
   "source": [
    "## Confusion Matrix"
   ]
  },
  {
   "cell_type": "code",
   "execution_count": 117,
   "metadata": {
    "colab": {},
    "colab_type": "code",
    "id": "UL3chrz0uIY8"
   },
   "outputs": [
    {
     "name": "stdout",
     "output_type": "stream",
     "text": [
      "[[23590  7488]\n",
      " [  248   924]]\n"
     ]
    }
   ],
   "source": [
    "print (confusion_matrix(y_test, Gradient_Boosting.predict(X_test)))\n"
   ]
  },
  {
   "cell_type": "markdown",
   "metadata": {},
   "source": [
    "## Precision/Recall"
   ]
  },
  {
   "cell_type": "code",
   "execution_count": 118,
   "metadata": {
    "colab": {},
    "colab_type": "code",
    "id": "21yOVsvDuIZU"
   },
   "outputs": [
    {
     "name": "stdout",
     "output_type": "stream",
     "text": [
      "              precision    recall  f1-score   support\n",
      "\n",
      "       False       0.99      0.76      0.86     31078\n",
      "        True       0.11      0.79      0.19      1172\n",
      "\n",
      "    accuracy                           0.76     32250\n",
      "   macro avg       0.55      0.77      0.53     32250\n",
      "weighted avg       0.96      0.76      0.83     32250\n",
      "\n"
     ]
    }
   ],
   "source": [
    "print (classification_report(y_test, Gradient_Boosting.predict(X_test)))\n"
   ]
  },
  {
   "cell_type": "markdown",
   "metadata": {},
   "source": [
    "## ROC Curve"
   ]
  },
  {
   "cell_type": "code",
   "execution_count": 119,
   "metadata": {
    "colab": {
     "base_uri": "https://localhost:8080/",
     "height": 51
    },
    "colab_type": "code",
    "executionInfo": {
     "elapsed": 749,
     "status": "ok",
     "timestamp": 1564423810007,
     "user": {
      "displayName": "Tejveer Singh",
      "photoUrl": "",
      "userId": "15997953647571826254"
     },
     "user_tz": 300
    },
    "id": "hVQJg5hiuIZZ",
    "outputId": "acad834c-1edb-4228-e8b9-1d68c1cb1fcb"
   },
   "outputs": [
    {
     "data": {
      "image/png": "[encoded data removed]",
      "text/plain": [
       "<Figure size 432x288 with 1 Axes>"
      ]
     },
     "metadata": {
      "needs_background": "light"
     },
     "output_type": "display_data"
    }
   ],
   "source": [
    "probs = Gradient_Boosting.predict_proba(X_test)\n",
    "preds = probs[:,1]\n",
    "fpr, tpr, threshold = roc_curve(y_test, preds)\n",
    "roc_auc = auc(fpr, tpr)\n",
    "\n",
    "plt.title('Receiver Operating Characteristic')\n",
    "plt.plot(fpr, tpr, 'b', label = 'AUC = %0.2f' % roc_auc)\n",
    "plt.legend(loc = 'lower right')\n",
    "plt.plot([0, 1], [0, 1],'r--')\n",
    "plt.xlim([0, 1])\n",
    "plt.ylim([0, 1])\n",
    "plt.ylabel('True Positive Rate')\n",
    "plt.xlabel('False Positive Rate')\n",
    "plt.show()"
   ]
  },
  {
   "cell_type": "markdown",
   "metadata": {},
   "source": [
    "## Feature Importance"
   ]
  },
  {
   "cell_type": "code",
   "execution_count": 120,
   "metadata": {
    "colab": {
     "base_uri": "https://localhost:8080/",
     "height": 170
    },
    "colab_type": "code",
    "executionInfo": {
     "elapsed": 509,
     "status": "ok",
     "timestamp": 1564423814527,
     "user": {
      "displayName": "Tejveer Singh",
      "photoUrl": "",
      "userId": "15997953647571826254"
     },
     "user_tz": 300
    },
    "id": "ifER-nlVuIZr",
    "outputId": "0e0e2d5e-5ec4-4fd0-d3bf-a2047916cd87"
   },
   "outputs": [
    {
     "data": {
      "image/png": "[encoded data removed]",
      "text/plain": [
       "<Figure size 432x288 with 1 Axes>"
      ]
     },
     "metadata": {
      "needs_background": "light"
     },
     "output_type": "display_data"
    }
   ],
   "source": [
    "importances = Gradient_Boosting.feature_importances_\n",
    "\n",
    "# Sort feature importances in descending order\n",
    "indices = np.argsort(importances)[::-1][0:10]\n",
    "\n",
    "# Rearrange feature names so they match the sorted feature importances\n",
    "names = [X_train.columns[i] for i in indices][0:10]\n",
    "\n",
    "# Create plot\n",
    "plt.figure()\n",
    "\n",
    "# Create plot title\n",
    "plt.title(\"Feature Importance\")\n",
    "\n",
    "# Add bars\n",
    "plt.bar(range(10), importances[indices])\n",
    "\n",
    "# Add feature names as x-axis labels\n",
    "plt.xticks(range(10), names, rotation=90)\n",
    "\n",
    "# Show plot\n",
    "plt.show()"
   ]
  },
  {
   "cell_type": "markdown",
   "metadata": {
    "colab": {},
    "colab_type": "code",
    "id": "ivC1iXZWuIZ5"
   },
   "source": [
    "# Support Vector Classification"
   ]
  },
  {
   "cell_type": "code",
   "execution_count": 121,
   "metadata": {
    "colab": {},
    "colab_type": "code",
    "id": "CjN3GcjhuIaK"
   },
   "outputs": [
    {
     "name": "stdout",
     "output_type": "stream",
     "text": [
      "Fitting 4 folds for each of 1 candidates, totalling 4 fits\n"
     ]
    },
    {
     "name": "stderr",
     "output_type": "stream",
     "text": [
      "[Parallel(n_jobs=-1)]: Using backend LokyBackend with 16 concurrent workers.\n",
      "[Parallel(n_jobs=-1)]: Done   4 out of   4 | elapsed:    8.9s finished\n"
     ]
    },
    {
     "name": "stdout",
     "output_type": "stream",
     "text": [
      "{'probability': True, 'decision_function_shape': 'ovr', 'degree': 3, 'class_weight': 'balanced', 'shrinking': True, 'verbose': False, 'kernel': 'linear', 'random_state': 10, 'coef0': 0.0, 'cache_size': 200, 'gamma': 'auto_deprecated', 'max_iter': -1, 'tol': 0.001, 'C': 0.05}\n"
     ]
    }
   ],
   "source": [
    "parameters = {'C':(0.05,)\n",
    "              }\n",
    "\n",
    "SVM = SVC(class_weight='balanced',probability=True,random_state=10,kernel='linear')\n",
    "grid_obj = GridSearchCV(SVM, param_grid=parameters, scoring=score, verbose=1, n_jobs=-1, cv=4)\n",
    "grid_obj = grid_obj.fit(X_train, y_train)\n",
    "SVM = grid_obj.best_estimator_\n",
    "print (SVM.get_params())\n"
   ]
  },
  {
   "cell_type": "code",
   "execution_count": 122,
   "metadata": {
    "colab": {
     "base_uri": "https://localhost:8080/",
     "height": 275
    },
    "colab_type": "code",
    "executionInfo": {
     "elapsed": 34194,
     "status": "ok",
     "timestamp": 1564389554804,
     "user": {
      "displayName": "Tejveer Singh",
      "photoUrl": "",
      "userId": "15997953647571826254"
     },
     "user_tz": 300
    },
    "id": "JbM9Pu6ouIaR",
    "outputId": "bc7cfceb-0649-4006-9ebf-3e5e31720470"
   },
   "outputs": [
    {
     "name": "stdout",
     "output_type": "stream",
     "text": [
      "Tuned model has a training AUC score under ROC curve 0.8566.\n",
      "Tuned model has a testing AUC score under ROC curve 0.8521.\n"
     ]
    }
   ],
   "source": [
    "print (\"Tuned model has a training AUC score under ROC curve {:.4f}.\".format(auc_roc(SVM, X_train, y_train)))\n",
    "print (\"Tuned model has a testing AUC score under ROC curve {:.4f}.\".format(auc_roc(SVM, X_test, y_test)))"
   ]
  },
  {
   "cell_type": "markdown",
   "metadata": {},
   "source": [
    "## Confusion Matrix"
   ]
  },
  {
   "cell_type": "code",
   "execution_count": 123,
   "metadata": {
    "colab": {
     "base_uri": "https://localhost:8080/",
     "height": 85
    },
    "colab_type": "code",
    "executionInfo": {
     "elapsed": 1382,
     "status": "ok",
     "timestamp": 1564389577818,
     "user": {
      "displayName": "Tejveer Singh",
      "photoUrl": "",
      "userId": "15997953647571826254"
     },
     "user_tz": 300
    },
    "id": "RoLayTMeuIaa",
    "outputId": "be5aa6c6-4f60-4e62-f92a-0e19d8617182"
   },
   "outputs": [
    {
     "name": "stdout",
     "output_type": "stream",
     "text": [
      "[[20742 10336]\n",
      " [  169  1003]]\n"
     ]
    }
   ],
   "source": [
    "print (confusion_matrix(y_test, SVM.predict(X_test)))\n"
   ]
  },
  {
   "cell_type": "markdown",
   "metadata": {},
   "source": [
    "## Precision/Recall"
   ]
  },
  {
   "cell_type": "code",
   "execution_count": 124,
   "metadata": {
    "colab": {
     "base_uri": "https://localhost:8080/",
     "height": 51
    },
    "colab_type": "code",
    "executionInfo": {
     "elapsed": 1465,
     "status": "ok",
     "timestamp": 1564385396645,
     "user": {
      "displayName": "Tejveer Singh",
      "photoUrl": "",
      "userId": "15997953647571826254"
     },
     "user_tz": 300
    },
    "id": "BdU-zITtuIaw",
    "outputId": "9d693e94-22f3-4462-b990-887a8282e970"
   },
   "outputs": [
    {
     "name": "stdout",
     "output_type": "stream",
     "text": [
      "              precision    recall  f1-score   support\n",
      "\n",
      "       False       0.99      0.67      0.80     31078\n",
      "        True       0.09      0.86      0.16      1172\n",
      "\n",
      "    accuracy                           0.67     32250\n",
      "   macro avg       0.54      0.76      0.48     32250\n",
      "weighted avg       0.96      0.67      0.77     32250\n",
      "\n"
     ]
    }
   ],
   "source": [
    "print (classification_report(y_test, SVM.predict(X_test)))\n"
   ]
  },
  {
   "cell_type": "markdown",
   "metadata": {},
   "source": [
    "## ROC curve (AUC:0.85)"
   ]
  },
  {
   "cell_type": "code",
   "execution_count": 125,
   "metadata": {
    "colab": {},
    "colab_type": "code",
    "id": "6aeOrLaJuIbE"
   },
   "outputs": [
    {
     "data": {
      "image/png": "[encoded data removed]",
      "text/plain": [
       "<Figure size 432x288 with 1 Axes>"
      ]
     },
     "metadata": {
      "needs_background": "light"
     },
     "output_type": "display_data"
    }
   ],
   "source": [
    "probs = SVM.predict_proba(X_test)\n",
    "preds = probs[:,1]\n",
    "fpr, tpr, threshold = roc_curve(y_test, preds)\n",
    "roc_auc = auc(fpr, tpr)\n",
    "\n",
    "plt.title('Receiver Operating Characteristic')\n",
    "plt.plot(fpr, tpr, 'b', label = 'AUC = %0.2f' % roc_auc)\n",
    "plt.legend(loc = 'lower right')\n",
    "plt.plot([0, 1], [0, 1],'r--')\n",
    "plt.xlim([0, 1])\n",
    "plt.ylim([0, 1])\n",
    "plt.ylabel('True Positive Rate')\n",
    "plt.xlabel('False Positive Rate')\n",
    "plt.show()"
   ]
  },
  {
   "cell_type": "markdown",
   "metadata": {},
   "source": [
    "## Undersampling on transformed Dataset"
   ]
  },
  {
   "cell_type": "code",
   "execution_count": null,
   "metadata": {
    "colab": {},
    "colab_type": "code",
    "id": "Jk54oyanuIbP"
   },
   "outputs": [],
   "source": [
    "X=data1.drop(\"Call_Flag\", axis=1)\n",
    "y=data1[\"Call_Flag\"]\n",
    "\n",
    "\n",
    "XX_train, XX_test, yy_train, yy_test = train_test_split(X, y,test_size=0.25,random_state=0,stratify=y)\n",
    "\n",
    "\n",
    "train=pd.concat([XX_train,yy_train],axis=1)\n",
    "\n",
    "df_majority = train[train.Call_Flag==0]\n",
    "df_minority = train[train.Call_Flag==1]\n",
    " \n",
    "# downsample majority class\n",
    "df_majority_downsampled = resample(df_majority, \n",
    "                                 replace=False,     # sample without replacement\n",
    "                                 n_samples=df_minority.shape[0],    # to match minority class\n",
    "                                 random_state=10) # reproducible results\n",
    "\n",
    "\n",
    "# Combine majority class with upsampled minority class\n",
    "df_upsampled = pd.concat([df_minority, df_majority_downsampled])\n",
    "df_upsampled=shuffle(df_upsampled)\n",
    "XX_train=df_upsampled.drop('Call_Flag',axis=1)\n",
    "yy_train=df_upsampled['Call_Flag']\n",
    "\n",
    "\n",
    "\n",
    "score = make_scorer(roc_auc_score)\n",
    "\n",
    "    \n",
    "def auc_roc(clf, features, target):\n",
    "    probs = clf.predict_proba(features)\n",
    "    probs = probs[:, 1]\n",
    "    auc_score = roc_auc_score(target,probs)\n",
    "    return auc_score\n"
   ]
  },
  {
   "cell_type": "markdown",
   "metadata": {},
   "source": [
    "## Random Forest"
   ]
  },
  {
   "cell_type": "code",
   "execution_count": 126,
   "metadata": {
    "colab": {
     "base_uri": "https://localhost:8080/",
     "height": 868
    },
    "colab_type": "code",
    "executionInfo": {
     "elapsed": 583,
     "status": "error",
     "timestamp": 1564385714119,
     "user": {
      "displayName": "Tejveer Singh",
      "photoUrl": "",
      "userId": "15997953647571826254"
     },
     "user_tz": 300
    },
    "id": "4VRQ9ATuuIbn",
    "outputId": "c0f53445-98c0-4507-eb0a-ed1dac6c4211"
   },
   "outputs": [
    {
     "name": "stdout",
     "output_type": "stream",
     "text": [
      "Fitting 4 folds for each of 270 candidates, totalling 1080 fits\n"
     ]
    },
    {
     "name": "stderr",
     "output_type": "stream",
     "text": [
      "[Parallel(n_jobs=-1)]: Using backend LokyBackend with 16 concurrent workers.\n",
      "[Parallel(n_jobs=-1)]: Done  18 tasks      | elapsed:    0.5s\n",
      "[Parallel(n_jobs=-1)]: Done 264 tasks      | elapsed:    7.6s\n",
      "[Parallel(n_jobs=-1)]: Done 514 tasks      | elapsed:   17.0s\n",
      "[Parallel(n_jobs=-1)]: Done 864 tasks      | elapsed:   30.5s\n",
      "[Parallel(n_jobs=-1)]: Done 1080 out of 1080 | elapsed:   40.6s finished\n"
     ]
    },
    {
     "name": "stdout",
     "output_type": "stream",
     "text": [
      "{'max_features': 'auto', 'class_weight': 'balanced', 'criterion': 'gini', 'verbose': 0, 'min_samples_split': 3, 'min_impurity_split': None, 'random_state': 10, 'oob_score': False, 'warm_start': False, 'n_jobs': None, 'max_depth': 8, 'bootstrap': True, 'min_weight_fraction_leaf': 0.0, 'min_samples_leaf': 1, 'min_impurity_decrease': 0.0, 'max_leaf_nodes': None, 'n_estimators': 50}\n"
     ]
    }
   ],
   "source": [
    "parameters = {'n_estimators':(30,50,100),'max_depth':(8,16,32,64,100),'criterion':('gini','entropy'),'min_samples_split':(2,3,4),'min_samples_leaf':(1,2,3)}\n",
    "\n",
    "RR_forest = RandomForestClassifier(class_weight='balanced',random_state=10)\n",
    "grid = GridSearchCV(RR_forest,param_grid=parameters, scoring=score, verbose=1, n_jobs=-1, cv=4)\n",
    "grid = grid.fit(XX_train, yy_train)\n",
    "RR_forest = grid.best_estimator_\n",
    "print (RR_forest.get_params())  \n",
    "\n"
   ]
  },
  {
   "cell_type": "code",
   "execution_count": 127,
   "metadata": {
    "colab": {},
    "colab_type": "code",
    "id": "YPtn-UG7qFh9"
   },
   "outputs": [
    {
     "name": "stdout",
     "output_type": "stream",
     "text": [
      "Tuned model has a training AUC score under ROC curve 0.88.\n",
      "Tuned model has a testing AUC score under ROC curve 0.85.\n"
     ]
    }
   ],
   "source": [
    "print (\"Tuned model has a training AUC score under ROC curve {:.2f}.\".format(auc_roc(RR_forest, XX_train, yy_train)))\n",
    "print (\"Tuned model has a testing AUC score under ROC curve {:.2f}.\".format(auc_roc(RR_forest, XX_test, yy_test)))"
   ]
  },
  {
   "cell_type": "markdown",
   "metadata": {},
   "source": [
    "## Precision/Recall"
   ]
  },
  {
   "cell_type": "code",
   "execution_count": 128,
   "metadata": {
    "colab": {
     "base_uri": "https://localhost:8080/",
     "height": 351
    },
    "colab_type": "code",
    "executionInfo": {
     "elapsed": 656,
     "status": "error",
     "timestamp": 1564385429831,
     "user": {
      "displayName": "Tejveer Singh",
      "photoUrl": "",
      "userId": "15997953647571826254"
     },
     "user_tz": 300
    },
    "id": "M-vydZysuIb4",
    "outputId": "ce886224-0eb3-4a34-c566-2c95185f02e0"
   },
   "outputs": [
    {
     "name": "stdout",
     "output_type": "stream",
     "text": [
      "              precision    recall  f1-score   support\n",
      "\n",
      "       False       0.99      0.74      0.85     31271\n",
      "        True       0.10      0.79      0.18      1181\n",
      "\n",
      "    accuracy                           0.74     32452\n",
      "   macro avg       0.55      0.76      0.51     32452\n",
      "weighted avg       0.96      0.74      0.82     32452\n",
      "\n"
     ]
    }
   ],
   "source": [
    "print (classification_report(yy_test, RR_forest.predict(XX_test)))\n"
   ]
  },
  {
   "cell_type": "markdown",
   "metadata": {},
   "source": [
    "## Confusion Matrix"
   ]
  },
  {
   "cell_type": "code",
   "execution_count": 129,
   "metadata": {
    "colab": {
     "base_uri": "https://localhost:8080/",
     "height": 51
    },
    "colab_type": "code",
    "executionInfo": {
     "elapsed": 802,
     "status": "ok",
     "timestamp": 1564386642920,
     "user": {
      "displayName": "Tejveer Singh",
      "photoUrl": "",
      "userId": "15997953647571826254"
     },
     "user_tz": 300
    },
    "id": "r_0AG7_duIcG",
    "outputId": "21766846-8059-4592-bde4-4c7a0c508ccc"
   },
   "outputs": [
    {
     "name": "stdout",
     "output_type": "stream",
     "text": [
      "[[23176  8095]\n",
      " [  253   928]]\n"
     ]
    }
   ],
   "source": [
    "print (confusion_matrix(yy_test, RR_forest.predict(XX_test)))\n"
   ]
  },
  {
   "cell_type": "markdown",
   "metadata": {},
   "source": [
    "## ROC Curve"
   ]
  },
  {
   "cell_type": "code",
   "execution_count": 130,
   "metadata": {
    "colab": {
     "base_uri": "https://localhost:8080/",
     "height": 170
    },
    "colab_type": "code",
    "executionInfo": {
     "elapsed": 1348,
     "status": "ok",
     "timestamp": 1564385518659,
     "user": {
      "displayName": "Tejveer Singh",
      "photoUrl": "",
      "userId": "15997953647571826254"
     },
     "user_tz": 300
    },
    "id": "zWgJQE3tuIdH",
    "outputId": "7d11df2b-29a5-4ebf-e4b7-a38789f6e0bf"
   },
   "outputs": [
    {
     "data": {
      "image/png": "[encoded data removed]",
      "text/plain": [
       "<Figure size 432x288 with 1 Axes>"
      ]
     },
     "metadata": {
      "needs_background": "light"
     },
     "output_type": "display_data"
    }
   ],
   "source": [
    "probs = RR_forest.predict_proba(XX_test)\n",
    "preds = probs[:,1]\n",
    "fpr, tpr, threshold = roc_curve(yy_test, preds)\n",
    "roc_auc = auc(fpr, tpr)\n",
    "\n",
    "plt.title('Receiver Operating Characteristic')\n",
    "plt.plot(fpr, tpr, 'b', label = 'AUC = %0.2f' % roc_auc)\n",
    "plt.legend(loc = 'lower right')\n",
    "plt.plot([0, 1], [0, 1],'r--')\n",
    "plt.xlim([0, 1])\n",
    "plt.ylim([0, 1])\n",
    "plt.ylabel('True Positive Rate')\n",
    "plt.xlabel('False Positive Rate')\n",
    "plt.show()"
   ]
  },
  {
   "cell_type": "code",
   "execution_count": 131,
   "metadata": {
    "colab": {},
    "colab_type": "code",
    "id": "xFwEpLIOuIdN"
   },
   "outputs": [
    {
     "data": {
      "image/png": "[encoded data removed]",
      "text/plain": [
       "<Figure size 432x288 with 1 Axes>"
      ]
     },
     "metadata": {
      "needs_background": "light"
     },
     "output_type": "display_data"
    }
   ],
   "source": [
    "importances = RR_forest.feature_importances_\n",
    "\n",
    "# Sort feature importances in descending order\n",
    "indices = np.argsort(importances)[::-1][0:10]\n",
    "\n",
    "# Rearrange feature names so they match the sorted feature importances\n",
    "names = [XX_train.columns[i] for i in indices][0:10]\n",
    "\n",
    "# Create plot\n",
    "plt.figure()\n",
    "\n",
    "# Create plot title\n",
    "plt.title(\"Feature Importance\")\n",
    "\n",
    "# Add bars\n",
    "plt.bar(range(10), importances[indices])\n",
    "\n",
    "# Add feature names as x-axis labels\n",
    "plt.xticks(range(10), names, rotation=90)\n",
    "\n",
    "# Show plot\n",
    "plt.show()"
   ]
  },
  {
   "cell_type": "code",
   "execution_count": null,
   "metadata": {
    "colab": {},
    "colab_type": "code",
    "id": "KobW9Ft7uIdU"
   },
   "outputs": [],
   "source": []
  },
  {
   "cell_type": "markdown",
   "metadata": {},
   "source": [
    "# Gradient Boosting"
   ]
  },
  {
   "cell_type": "code",
   "execution_count": 132,
   "metadata": {
    "colab": {},
    "colab_type": "code",
    "id": "1b7WC0y6uIdn"
   },
   "outputs": [
    {
     "name": "stdout",
     "output_type": "stream",
     "text": [
      "Fitting 4 folds for each of 120 candidates, totalling 480 fits\n"
     ]
    },
    {
     "name": "stderr",
     "output_type": "stream",
     "text": [
      "[Parallel(n_jobs=-1)]: Using backend LokyBackend with 16 concurrent workers.\n",
      "[Parallel(n_jobs=-1)]: Done  18 tasks      | elapsed:   41.6s\n",
      "[Parallel(n_jobs=-1)]: Done 168 tasks      | elapsed:  5.2min\n",
      "[Parallel(n_jobs=-1)]: Done 418 tasks      | elapsed:  9.8min\n",
      "[Parallel(n_jobs=-1)]: Done 480 out of 480 | elapsed: 10.6min finished\n"
     ]
    },
    {
     "name": "stdout",
     "output_type": "stream",
     "text": [
      "{'presort': 'auto', 'max_features': None, 'learning_rate': 0.01, 'criterion': 'friedman_mse', 'verbose': 0, 'min_samples_split': 2, 'min_impurity_split': None, 'n_iter_no_change': None, 'random_state': 10, 'loss': 'exponential', 'init': None, 'subsample': 1.0, 'validation_fraction': 0.1, 'max_depth': 8, 'warm_start': False, 'tol': 0.0001, 'min_weight_fraction_leaf': 0.0, 'min_samples_leaf': 1, 'min_impurity_decrease': 0.0, 'max_leaf_nodes': None, 'n_estimators': 200}\n"
     ]
    }
   ],
   "source": [
    "parameters = {'loss':('deviance','exponential'),\n",
    "              'learning_rate':(0.01,0.5,0.1,1.0),\n",
    "             'n_estimators':(100,150,200),'max_depth':(8,16,32,64,100)}\n",
    "\n",
    "GGradient_Boosting=GradientBoostingClassifier(random_state=10)\n",
    "grid_obj = GridSearchCV(GGradient_Boosting, param_grid=parameters, scoring=score, verbose=1, n_jobs=-1, cv=4)\n",
    "grid_obj = grid_obj.fit(XX_train, yy_train)\n",
    "GGradient_Boosting= grid_obj.best_estimator_\n",
    "print (GGradient_Boosting.get_params())\n",
    "\n"
   ]
  },
  {
   "cell_type": "code",
   "execution_count": 133,
   "metadata": {
    "colab": {},
    "colab_type": "code",
    "id": "V6wz6AruuId8"
   },
   "outputs": [
    {
     "name": "stdout",
     "output_type": "stream",
     "text": [
      "Tuned model has a training AUC score under ROC curve 0.92.\n",
      "Tuned model has a testing AUC score under ROC curve 0.84.\n"
     ]
    }
   ],
   "source": [
    "print (\"Tuned model has a training AUC score under ROC curve {:.2f}.\".format(auc_roc(GGradient_Boosting, XX_train, yy_train)))\n",
    "print (\"Tuned model has a testing AUC score under ROC curve {:.2f}.\".format(auc_roc(GGradient_Boosting, XX_test, yy_test)))"
   ]
  },
  {
   "cell_type": "code",
   "execution_count": 134,
   "metadata": {
    "colab": {},
    "colab_type": "code",
    "id": "tq_V62JduIeD"
   },
   "outputs": [
    {
     "name": "stdout",
     "output_type": "stream",
     "text": [
      "              precision    recall  f1-score   support\n",
      "\n",
      "       False       0.99      0.75      0.85     31271\n",
      "        True       0.10      0.76      0.18      1181\n",
      "\n",
      "    accuracy                           0.75     32452\n",
      "   macro avg       0.55      0.76      0.52     32452\n",
      "weighted avg       0.96      0.75      0.83     32452\n",
      "\n"
     ]
    }
   ],
   "source": [
    "print (classification_report(yy_test, GGradient_Boosting.predict(XX_test)))\n"
   ]
  },
  {
   "cell_type": "code",
   "execution_count": 135,
   "metadata": {
    "colab": {},
    "colab_type": "code",
    "id": "VVfOEAbduIeL"
   },
   "outputs": [
    {
     "name": "stdout",
     "output_type": "stream",
     "text": [
      "[[23480  7791]\n",
      " [  278   903]]\n"
     ]
    }
   ],
   "source": [
    "print (confusion_matrix(yy_test,GGradient_Boosting.predict(XX_test)))\n"
   ]
  },
  {
   "cell_type": "code",
   "execution_count": 136,
   "metadata": {
    "colab": {},
    "colab_type": "code",
    "id": "vWewkIMkuIek"
   },
   "outputs": [
    {
     "data": {
      "image/png": "[encoded data removed]",
      "text/plain": [
       "<Figure size 432x288 with 1 Axes>"
      ]
     },
     "metadata": {
      "needs_background": "light"
     },
     "output_type": "display_data"
    }
   ],
   "source": [
    "probs = GGradient_Boosting.predict_proba(XX_test)\n",
    "preds = probs[:,1]\n",
    "fpr, tpr, threshold = roc_curve(yy_test, preds)\n",
    "roc_auc = auc(fpr, tpr)\n",
    "\n",
    "plt.title('Receiver Operating Characteristic')\n",
    "plt.plot(fpr, tpr, 'b', label = 'AUC = %0.2f' % roc_auc)\n",
    "plt.legend(loc = 'lower right')\n",
    "plt.plot([0, 1], [0, 1],'r--')\n",
    "plt.xlim([0, 1])\n",
    "plt.ylim([0, 1])\n",
    "plt.ylabel('True Positive Rate')\n",
    "plt.xlabel('False Positive Rate')\n",
    "plt.show()"
   ]
  },
  {
   "cell_type": "code",
   "execution_count": 137,
   "metadata": {
    "colab": {
     "base_uri": "https://localhost:8080/",
     "height": 122
    },
    "colab_type": "code",
    "id": "U6npcJ1iuIe_",
    "outputId": "8fd1108a-2a2d-4c0b-a7d5-9166f88a3b95"
   },
   "outputs": [
    {
     "data": {
      "image/png": "[encoded data removed]",
      "text/plain": [
       "<Figure size 432x288 with 1 Axes>"
      ]
     },
     "metadata": {
      "needs_background": "light"
     },
     "output_type": "display_data"
    }
   ],
   "source": [
    "importances = GGradient_Boosting.feature_importances_\n",
    "\n",
    "# Sort feature importances in descending order\n",
    "indices = np.argsort(importances)[::-1][0:10]\n",
    "\n",
    "# Rearrange feature names so they match the sorted feature importances\n",
    "names = [XX_train.columns[i] for i in indices][0:10]\n",
    "\n",
    "# Create plot\n",
    "plt.figure()\n",
    "\n",
    "# Create plot title\n",
    "plt.title(\"Feature Importance\")\n",
    "\n",
    "# Add bars\n",
    "plt.bar(range(10), importances[indices])\n",
    "\n",
    "# Add feature names as x-axis labels\n",
    "plt.xticks(range(10), names, rotation=90)\n",
    "\n",
    "# Show plot\n",
    "plt.show()\n",
    "\n"
   ]
  },
  {
   "cell_type": "code",
   "execution_count": null,
   "metadata": {},
   "outputs": [],
   "source": []
  },
  {
   "cell_type": "markdown",
   "metadata": {},
   "source": [
    "## Support Vector Classification"
   ]
  },
  {
   "cell_type": "code",
   "execution_count": 138,
   "metadata": {
    "colab": {},
    "colab_type": "code",
    "id": "9QQXS_7iuIfo"
   },
   "outputs": [
    {
     "name": "stdout",
     "output_type": "stream",
     "text": [
      "Fitting 4 folds for each of 1 candidates, totalling 4 fits\n"
     ]
    },
    {
     "name": "stderr",
     "output_type": "stream",
     "text": [
      "[Parallel(n_jobs=-1)]: Using backend LokyBackend with 16 concurrent workers.\n",
      "[Parallel(n_jobs=-1)]: Done   4 out of   4 | elapsed:   11.5s finished\n"
     ]
    },
    {
     "name": "stdout",
     "output_type": "stream",
     "text": [
      "{'probability': True, 'decision_function_shape': 'ovr', 'degree': 3, 'class_weight': 'balanced', 'shrinking': True, 'verbose': False, 'kernel': 'linear', 'random_state': 10, 'coef0': 0.0, 'cache_size': 200, 'gamma': 'auto_deprecated', 'max_iter': -1, 'tol': 0.001, 'C': 0.5}\n"
     ]
    }
   ],
   "source": [
    "parameters = {'C':(0.5,)\n",
    "              }\n",
    "\n",
    "SSVM = SVC(class_weight='balanced',probability=True,random_state=10,kernel='linear')\n",
    "grid_obj = GridSearchCV(SSVM, param_grid=parameters, scoring=score, verbose=1, n_jobs=-1, cv=4)\n",
    "grid_obj = grid_obj.fit(XX_train, yy_train)\n",
    "SSVM = grid_obj.best_estimator_\n",
    "print (SSVM.get_params())\n"
   ]
  },
  {
   "cell_type": "code",
   "execution_count": 139,
   "metadata": {
    "colab": {},
    "colab_type": "code",
    "id": "VfW9xeB-uIgQ"
   },
   "outputs": [
    {
     "name": "stdout",
     "output_type": "stream",
     "text": [
      "Tuned model has a training AUC score under ROC curve 0.8406.\n",
      "Tuned model has a testing AUC score under ROC curve 0.8342.\n"
     ]
    }
   ],
   "source": [
    "print (\"Tuned model has a training AUC score under ROC curve {:.4f}.\".format(auc_roc(SSVM, XX_train, yy_train)))\n",
    "print (\"Tuned model has a testing AUC score under ROC curve {:.4f}.\".format(auc_roc(SSVM, XX_test, yy_test)))"
   ]
  },
  {
   "cell_type": "code",
   "execution_count": 140,
   "metadata": {
    "colab": {},
    "colab_type": "code",
    "id": "6il3t2kVuIgc"
   },
   "outputs": [
    {
     "name": "stdout",
     "output_type": "stream",
     "text": [
      "[[19936 11335]\n",
      " [  161  1020]]\n"
     ]
    }
   ],
   "source": [
    "print (confusion_matrix(yy_test, SSVM.predict(XX_test)))\n"
   ]
  },
  {
   "cell_type": "code",
   "execution_count": 141,
   "metadata": {
    "colab": {},
    "colab_type": "code",
    "id": "P_yDumsXpufB"
   },
   "outputs": [
    {
     "name": "stdout",
     "output_type": "stream",
     "text": [
      "              precision    recall  f1-score   support\n",
      "\n",
      "       False       0.99      0.64      0.78     31271\n",
      "        True       0.08      0.86      0.15      1181\n",
      "\n",
      "    accuracy                           0.65     32452\n",
      "   macro avg       0.54      0.75      0.46     32452\n",
      "weighted avg       0.96      0.65      0.75     32452\n",
      "\n"
     ]
    }
   ],
   "source": [
    "print (classification_report(yy_test,SSVM.predict(XX_test)))\n"
   ]
  },
  {
   "cell_type": "code",
   "execution_count": 142,
   "metadata": {
    "colab": {},
    "colab_type": "code",
    "id": "uavsm-NWpvRS"
   },
   "outputs": [
    {
     "data": {
      "image/png": "[encoded data removed]",
      "text/plain": [
       "<Figure size 432x288 with 1 Axes>"
      ]
     },
     "metadata": {
      "needs_background": "light"
     },
     "output_type": "display_data"
    }
   ],
   "source": [
    "probs = SSVM.predict_proba(XX_test)\n",
    "preds = probs[:,1]\n",
    "fpr, tpr, threshold = roc_curve(yy_test, preds)\n",
    "roc_auc = auc(fpr, tpr)\n",
    "\n",
    "plt.title('Receiver Operating Characteristic')\n",
    "plt.plot(fpr, tpr, 'b', label = 'AUC = %0.2f' % roc_auc)\n",
    "plt.legend(loc = 'lower right')\n",
    "plt.plot([0, 1], [0, 1],'r--')\n",
    "plt.xlim([0, 1])\n",
    "plt.ylim([0, 1])\n",
    "plt.ylabel('True Positive Rate')\n",
    "plt.xlabel('False Positive Rate')\n",
    "plt.show()"
   ]
  },
  {
   "cell_type": "markdown",
   "metadata": {
    "colab": {},
    "colab_type": "code",
    "id": "1f8-b3pepv8t"
   },
   "source": [
    "#  XGboost Gradient Boosting"
   ]
  },
  {
   "cell_type": "code",
   "execution_count": 143,
   "metadata": {
    "colab": {
     "base_uri": "https://localhost:8080/",
     "height": 241
    },
    "colab_type": "code",
    "executionInfo": {
     "elapsed": 5310626,
     "status": "ok",
     "timestamp": 1564441143471,
     "user": {
      "displayName": "Tejveer Singh",
      "photoUrl": "",
      "userId": "15997953647571826254"
     },
     "user_tz": 300
    },
    "id": "0I0UU6EpDQMU",
    "outputId": "981bc1a1-c788-43f3-96bd-2989b0a16c92"
   },
   "outputs": [
    {
     "name": "stdout",
     "output_type": "stream",
     "text": [
      "Fitting 4 folds for each of 900 candidates, totalling 3600 fits\n"
     ]
    },
    {
     "name": "stderr",
     "output_type": "stream",
     "text": [
      "[Parallel(n_jobs=4)]: Using backend LokyBackend with 4 concurrent workers.\n",
      "[Parallel(n_jobs=4)]: Done  42 tasks      | elapsed:    5.9s\n",
      "[Parallel(n_jobs=4)]: Done 192 tasks      | elapsed:  1.6min\n",
      "[Parallel(n_jobs=4)]: Done 442 tasks      | elapsed:  4.1min\n",
      "[Parallel(n_jobs=4)]: Done 792 tasks      | elapsed:  7.1min\n",
      "[Parallel(n_jobs=4)]: Done 1242 tasks      | elapsed: 11.6min\n",
      "[Parallel(n_jobs=4)]: Done 1792 tasks      | elapsed: 16.6min\n",
      "[Parallel(n_jobs=4)]: Done 2442 tasks      | elapsed: 23.1min\n",
      "[Parallel(n_jobs=4)]: Done 3192 tasks      | elapsed: 30.2min\n",
      "[Parallel(n_jobs=4)]: Done 3600 out of 3600 | elapsed: 34.7min finished\n"
     ]
    },
    {
     "name": "stdout",
     "output_type": "stream",
     "text": [
      "{'reg_lambda': 1, 'colsample_bytree': 1, 'missing': None, 'colsample_bylevel': 1, 'subsample': 1, 'seed': None, 'reg_alpha': 0, 'max_depth': 3, 'scale_pos_weight': 1, 'base_score': 0.5, 'silent': None, 'n_estimators': 200, 'learning_rate': 0.1, 'n_jobs': 1, 'nthread': None, 'verbosity': 1, 'random_state': 10, 'min_child_weight': 3, 'max_delta_step': 0, 'gamma': 0.1, 'booster': 'gbtree', 'colsample_bynode': 1, 'objective': 'binary:logistic'}\n"
     ]
    }
   ],
   "source": [
    "parameters = {'n_estimators':(30,50,100,200),'max_depth':(3,8,16,32,64),'learning_rate':(0.05,0.1,0.3),'min_child_weight':range(1,6,2),'gamma':[i/10.0 for i in range(0,5)] }\n",
    "\n",
    "XGB = XGBClassifier(random_state=10)\n",
    "grid =GridSearchCV(XGB,param_grid=parameters, scoring=score, verbose=1, n_jobs=4, cv=4)\n",
    "grid =grid.fit(X_train, y_train)\n",
    "XGB = grid.best_estimator_\n",
    "print (XGB.get_params())  \n"
   ]
  },
  {
   "cell_type": "code",
   "execution_count": 144,
   "metadata": {
    "colab": {
     "base_uri": "https://localhost:8080/",
     "height": 51
    },
    "colab_type": "code",
    "executionInfo": {
     "elapsed": 344,
     "status": "ok",
     "timestamp": 1564442072201,
     "user": {
      "displayName": "Tejveer Singh",
      "photoUrl": "",
      "userId": "15997953647571826254"
     },
     "user_tz": 300
    },
    "id": "atIjlXK4DQzB",
    "outputId": "2ad05342-2ca4-4c06-de04-076f2bd91c84"
   },
   "outputs": [
    {
     "name": "stdout",
     "output_type": "stream",
     "text": [
      "[[23821  7257]\n",
      " [  241   931]]\n"
     ]
    }
   ],
   "source": [
    "print (confusion_matrix(y_test, XGB.predict(X_test)))\n"
   ]
  },
  {
   "cell_type": "markdown",
   "metadata": {
    "colab_type": "text",
    "id": "pUFd8TLdDNJk"
   },
   "source": []
  },
  {
   "cell_type": "markdown",
   "metadata": {
    "colab_type": "text",
    "id": "UHV3iS0eDMwd"
   },
   "source": []
  },
  {
   "cell_type": "code",
   "execution_count": 145,
   "metadata": {
    "colab": {
     "base_uri": "https://localhost:8080/",
     "height": 170
    },
    "colab_type": "code",
    "executionInfo": {
     "elapsed": 356,
     "status": "ok",
     "timestamp": 1564442081798,
     "user": {
      "displayName": "Tejveer Singh",
      "photoUrl": "",
      "userId": "15997953647571826254"
     },
     "user_tz": 300
    },
    "id": "kASVAs7IuIgp",
    "outputId": "714f52f1-40f0-4067-f6ca-0459bb7b5a6f"
   },
   "outputs": [
    {
     "name": "stdout",
     "output_type": "stream",
     "text": [
      "              precision    recall  f1-score   support\n",
      "\n",
      "       False       0.99      0.77      0.86     31078\n",
      "        True       0.11      0.79      0.20      1172\n",
      "\n",
      "    accuracy                           0.77     32250\n",
      "   macro avg       0.55      0.78      0.53     32250\n",
      "weighted avg       0.96      0.77      0.84     32250\n",
      "\n"
     ]
    }
   ],
   "source": [
    "\n",
    "print (classification_report(y_test, XGB.predict(X_test)))\n"
   ]
  },
  {
   "cell_type": "code",
   "execution_count": 146,
   "metadata": {
    "colab": {
     "base_uri": "https://localhost:8080/",
     "height": 85
    },
    "colab_type": "code",
    "executionInfo": {
     "elapsed": 526,
     "status": "ok",
     "timestamp": 1564442294702,
     "user": {
      "displayName": "Tejveer Singh",
      "photoUrl": "",
      "userId": "15997953647571826254"
     },
     "user_tz": 300
    },
    "id": "ZlAFxTP8uIhP",
    "outputId": "f9613959-1965-4333-ab47-c2fe1061e39e"
   },
   "outputs": [
    {
     "name": "stdout",
     "output_type": "stream",
     "text": [
      "Tuned model has a training AUC score under ROC curve 0.8975.\n",
      "Tuned model has a testing AUC score under ROC curve 0.8645.\n"
     ]
    }
   ],
   "source": [
    "\n",
    "print (\"Tuned model has a training AUC score under ROC curve {:.4f}.\".format(auc_roc(XGB, X_train, y_train)))\n",
    "print (\"Tuned model has a testing AUC score under ROC curve {:.4f}.\".format(auc_roc(XGB, X_test, y_test)))"
   ]
  },
  {
   "cell_type": "code",
   "execution_count": null,
   "metadata": {
    "colab": {},
    "colab_type": "code",
    "id": "6Z_pyBWVBvcy"
   },
   "outputs": [],
   "source": []
  },
  {
   "cell_type": "markdown",
   "metadata": {},
   "source": [
    "# Undersampling (TomeKlinks Sampling)"
   ]
  },
  {
   "cell_type": "code",
   "execution_count": 147,
   "metadata": {},
   "outputs": [],
   "source": [
    "X=data.drop(\"Call_Flag\", axis=1)\n",
    "y=data[\"Call_Flag\"]\n",
    "\n",
    "\n",
    "X_train, X_test, y_train, y_test = train_test_split(X, y,test_size=0.25,random_state=0,stratify=y)\n",
    "\n",
    "\n",
    "CC=TomekLinks(random_state=10,n_jobs=-1)\n",
    "X_train, y_train = CC.fit_resample(X_train,y_train)"
   ]
  },
  {
   "cell_type": "markdown",
   "metadata": {},
   "source": [
    "#  Random Forest"
   ]
  },
  {
   "cell_type": "code",
   "execution_count": 148,
   "metadata": {},
   "outputs": [
    {
     "name": "stdout",
     "output_type": "stream",
     "text": [
      "Fitting 4 folds for each of 270 candidates, totalling 1080 fits\n"
     ]
    },
    {
     "name": "stderr",
     "output_type": "stream",
     "text": [
      "[Parallel(n_jobs=-1)]: Using backend LokyBackend with 16 concurrent workers.\n",
      "[Parallel(n_jobs=-1)]: Done  18 tasks      | elapsed:    9.3s\n",
      "[Parallel(n_jobs=-1)]: Done 168 tasks      | elapsed:  1.2min\n",
      "[Parallel(n_jobs=-1)]: Done 418 tasks      | elapsed:  3.6min\n",
      "[Parallel(n_jobs=-1)]: Done 768 tasks      | elapsed:  6.7min\n",
      "[Parallel(n_jobs=-1)]: Done 1080 out of 1080 | elapsed: 10.3min finished\n"
     ]
    },
    {
     "name": "stdout",
     "output_type": "stream",
     "text": [
      "{'max_features': 'auto', 'class_weight': 'balanced', 'criterion': 'entropy', 'verbose': 0, 'min_samples_split': 4, 'min_impurity_split': None, 'random_state': 10, 'oob_score': False, 'warm_start': False, 'n_jobs': None, 'max_depth': 8, 'bootstrap': True, 'min_weight_fraction_leaf': 0.0, 'min_samples_leaf': 1, 'min_impurity_decrease': 0.0, 'max_leaf_nodes': None, 'n_estimators': 100}\n"
     ]
    }
   ],
   "source": [
    "parameters = {'n_estimators':(30,50,100),'max_depth':(8,16,32,64,100),'criterion':('gini','entropy'),'min_samples_split':(2,3,4),'min_samples_leaf':(1,2,3)}\n",
    "\n",
    "R_forest = RandomForestClassifier(class_weight='balanced',random_state=10)\n",
    "grid = GridSearchCV(R_forest,param_grid=parameters, scoring=score, verbose=1, n_jobs=-1, cv=4)\n",
    "grid = grid.fit(X_train, y_train)\n",
    "R_forest = grid.best_estimator_\n",
    "print (R_forest.get_params())  \n"
   ]
  },
  {
   "cell_type": "code",
   "execution_count": 149,
   "metadata": {},
   "outputs": [
    {
     "name": "stdout",
     "output_type": "stream",
     "text": [
      "Tuned model has a training AUC score under ROC curve 0.89.\n",
      "Tuned model has a testing AUC score under ROC curve 0.86.\n"
     ]
    }
   ],
   "source": [
    "print (\"Tuned model has a training AUC score under ROC curve {:.2f}.\".format(auc_roc(R_forest, X_train, y_train)))\n",
    "print (\"Tuned model has a testing AUC score under ROC curve {:.2f}.\".format(auc_roc(R_forest, X_test, y_test)))"
   ]
  },
  {
   "cell_type": "code",
   "execution_count": 150,
   "metadata": {},
   "outputs": [
    {
     "name": "stdout",
     "output_type": "stream",
     "text": [
      "              precision    recall  f1-score   support\n",
      "\n",
      "       False       0.99      0.78      0.87     31078\n",
      "        True       0.12      0.77      0.20      1172\n",
      "\n",
      "    accuracy                           0.78     32250\n",
      "   macro avg       0.55      0.78      0.54     32250\n",
      "weighted avg       0.96      0.78      0.85     32250\n",
      "\n"
     ]
    }
   ],
   "source": [
    "print (classification_report(y_test, R_forest.predict(X_test)))\n"
   ]
  },
  {
   "cell_type": "code",
   "execution_count": 151,
   "metadata": {},
   "outputs": [
    {
     "name": "stdout",
     "output_type": "stream",
     "text": [
      "[[24257  6821]\n",
      " [  266   906]]\n"
     ]
    }
   ],
   "source": [
    "print (confusion_matrix(y_test, R_forest.predict(X_test)))\n"
   ]
  },
  {
   "cell_type": "code",
   "execution_count": 152,
   "metadata": {},
   "outputs": [
    {
     "data": {
      "image/png": "[encoded data removed]",
      "text/plain": [
       "<Figure size 432x288 with 1 Axes>"
      ]
     },
     "metadata": {
      "needs_background": "light"
     },
     "output_type": "display_data"
    }
   ],
   "source": [
    "probs = R_forest.predict_proba(X_test)\n",
    "preds = probs[:,1]\n",
    "fpr, tpr, threshold = roc_curve(y_test, preds)\n",
    "roc_auc = auc(fpr, tpr)\n",
    "\n",
    "plt.title('Receiver Operating Characteristic')\n",
    "plt.plot(fpr, tpr, 'b', label = 'AUC = %0.2f' % roc_auc)\n",
    "plt.legend(loc = 'lower right')\n",
    "plt.plot([0, 1], [0, 1],'r--')\n",
    "plt.xlim([0, 1])\n",
    "plt.ylim([0, 1])\n",
    "plt.ylabel('True Positive Rate')\n",
    "plt.xlabel('False Positive Rate')\n",
    "plt.show()"
   ]
  },
  {
   "cell_type": "code",
   "execution_count": 153,
   "metadata": {},
   "outputs": [
    {
     "data": {
      "image/png": "[encoded data removed]",
      "text/plain": [
       "<Figure size 432x288 with 1 Axes>"
      ]
     },
     "metadata": {
      "needs_background": "light"
     },
     "output_type": "display_data"
    }
   ],
   "source": [
    "importances = R_forest.feature_importances_\n",
    "\n",
    "# Sort feature importances in descending order\n",
    "indices = np.argsort(importances)[::-1][0:10]\n",
    "\n",
    "# Rearrange feature names so they match the sorted feature importances\n",
    "names = [X.columns[i] for i in indices][0:10]\n",
    "\n",
    "# Create plot\n",
    "plt.figure()\n",
    "\n",
    "# Create plot title\n",
    "plt.title(\"Feature Importance\")\n",
    "\n",
    "# Add bars\n",
    "plt.bar(range(10), importances[indices])\n",
    "\n",
    "# Add feature names as x-axis labels\n",
    "plt.xticks(range(10), names, rotation=90)\n",
    "\n",
    "# Show plot\n",
    "plt.show()"
   ]
  },
  {
   "cell_type": "code",
   "execution_count": null,
   "metadata": {},
   "outputs": [],
   "source": []
  },
  {
   "cell_type": "code",
   "execution_count": null,
   "metadata": {},
   "outputs": [],
   "source": []
  },
  {
   "cell_type": "code",
   "execution_count": null,
   "metadata": {},
   "outputs": [],
   "source": []
  }
 ],
 "metadata": {
  "accelerator": "GPU",
  "colab": {
   "collapsed_sections": [
    "_meFRE7BuIEM"
   ],
   "name": "Untitled.ipynb",
   "provenance": [],
   "version": "0.3.2"
  },
  "kernelspec": {
   "display_name": "Python 3",
   "language": "python",
   "name": "python3"
  },
  "language_info": {
   "codemirror_mode": {
    "name": "ipython",
    "version": 3
   },
   "file_extension": ".py",
   "mimetype": "text/x-python",
   "name": "python",
   "nbconvert_exporter": "python",
   "pygments_lexer": "ipython3",
   "version": "3.5.3"
  }
 },
 "nbformat": 4,
 "nbformat_minor": 1
}
